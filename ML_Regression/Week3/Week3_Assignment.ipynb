{
 "cells": [
  {
   "cell_type": "markdown",
   "metadata": {},
   "source": [
    "# Regression Week 3: Assessing Fit (polynomial regression)"
   ]
  },
  {
   "cell_type": "markdown",
   "metadata": {},
   "source": [
    "In this notebook you will compare different regression models in order to assess which model fits best. We will be using polynomial regression as a means to examine this topic. In particular you will:\n",
    "* Write a function to take an SArray and a degree and return an SFrame where each column is the SArray to a polynomial value up to the total degree e.g. degree = 3 then column 1 is the SArray column 2 is the SArray squared and column 3 is the SArray cubed\n",
    "* Use matplotlib to visualize polynomial regressions\n",
    "* Use matplotlib to visualize the same polynomial degree on different subsets of the data\n",
    "* Use a validation set to select a polynomial degree\n",
    "* Assess the final fit using test data\n",
    "\n",
    "We will continue to use the House data from previous notebooks."
   ]
  },
  {
   "cell_type": "code",
   "execution_count": 1,
   "metadata": {},
   "outputs": [],
   "source": [
    "import numpy as np\n",
    "import pandas as pd"
   ]
  },
  {
   "cell_type": "markdown",
   "metadata": {},
   "source": [
    "Next we're going to write a polynomial function that takes an SArray and a maximal degree and returns an SFrame with columns containing the SArray to all the powers up to the maximal degree.\n",
    "\n",
    "The easiest way to apply a power to an SArray is to use the .apply() and lambda x: functions. \n",
    "For example to take the example array and compute the third power we can do as follows: (note running this cell the first time may take longer than expected since it loads Turi Create)"
   ]
  },
  {
   "cell_type": "code",
   "execution_count": 4,
   "metadata": {},
   "outputs": [
    {
     "name": "stdout",
     "output_type": "stream",
     "text": [
      "[1. 2. 3.]\n",
      "[ 1.  8. 27.]\n"
     ]
    }
   ],
   "source": [
    "tmp = np.array([1., 2., 3.])\n",
    "tmp_cubed = tmp ** 3\n",
    "print(tmp)\n",
    "print(tmp_cubed)"
   ]
  },
  {
   "cell_type": "markdown",
   "metadata": {},
   "source": [
    "We can create an empty SFrame using turicreate.SFrame() and then add any columns to it with ex_sframe['column_name'] = value. For example we create an empty SFrame and make the column 'power_1' to be the first power of tmp (i.e. tmp itself)."
   ]
  },
  {
   "cell_type": "code",
   "execution_count": 5,
   "metadata": {},
   "outputs": [],
   "source": [
    "my_DataFrame = pd.DataFrame()"
   ]
  },
  {
   "cell_type": "code",
   "execution_count": 6,
   "metadata": {
    "scrolled": false
   },
   "outputs": [
    {
     "name": "stdout",
     "output_type": "stream",
     "text": [
      "   power_1\n",
      "0      1.0\n",
      "1      2.0\n",
      "2      3.0\n"
     ]
    }
   ],
   "source": [
    "my_DataFrame['power_1'] = tmp\n",
    "print(my_DataFrame)"
   ]
  },
  {
   "cell_type": "markdown",
   "metadata": {},
   "source": [
    "# Polynomial_sframe function"
   ]
  },
  {
   "cell_type": "markdown",
   "metadata": {},
   "source": [
    "Using the hints above complete the following function to create an SFrame consisting of the powers of an SArray up to a specific degree:"
   ]
  },
  {
   "cell_type": "code",
   "execution_count": 7,
   "metadata": {},
   "outputs": [],
   "source": [
    "def polynomial_dataframe(feature, degree):\n",
    "    # assume that degree >= 1\n",
    "    # initialize the SFrame:\n",
    "    poly_dataframe = pd.DataFrame()\n",
    "    # and set poly_sframe['power_1'] equal to the passed feature\n",
    "    poly_dataframe['power_1'] = feature\n",
    "    # first check if degree > 1\n",
    "    if degree > 1:\n",
    "        # then loop over the remaining degrees:\n",
    "        # range usually starts at 0 and stops at the endpoint-1. We want it to start at 2 and stop at degree\n",
    "        for power in range(2, degree+1):\n",
    "            #first we'll give the column a name:\n",
    "            name = 'power_' + str(power)\n",
    "            #then assign poly_sframe[name] to the appropriate power of feature\n",
    "            poly_dataframe[name] = feature ** power\n",
    "    return poly_dataframe"
   ]
  },
  {
   "cell_type": "code",
   "execution_count": 10,
   "metadata": {
    "scrolled": true
   },
   "outputs": [
    {
     "name": "stdout",
     "output_type": "stream",
     "text": [
      "   power_1  power_2  power_3\n",
      "0      1.0      1.0      1.0\n",
      "1      2.0      4.0      8.0\n",
      "2      3.0      9.0     27.0\n"
     ]
    }
   ],
   "source": [
    "print(polynomial_dataframe(tmp, 3))"
   ]
  },
  {
   "cell_type": "markdown",
   "metadata": {},
   "source": [
    "# Visualizing polynomial regression"
   ]
  },
  {
   "cell_type": "markdown",
   "metadata": {},
   "source": [
    "Let's use matplotlib to visualize what a polynomial regression looks like on some real data."
   ]
  },
  {
   "cell_type": "code",
   "execution_count": 11,
   "metadata": {},
   "outputs": [],
   "source": [
    "dtype_dict = {'bathrooms':float, 'waterfront':int, 'sqft_above':int, 'sqft_living15':float, 'grade':int,\n",
    "              'yr_renovated':int, 'price':float, 'bedrooms':float, 'zipcode':str, 'long':float, 'sqft_lot15':float, \n",
    "              'sqft_living':float, 'floors':str, 'condition':int, 'lat':float, 'date':str, 'sqft_basement':int, \n",
    "              'yr_built':int, 'id':str, 'sqft_lot':int, 'view':int}\n",
    "sales = pd.read_csv('kc_house_data.csv', dtype = dtype_dict)"
   ]
  },
  {
   "cell_type": "markdown",
   "metadata": {},
   "source": [
    "As in Week 3, we will use the sqft_living variable. For plotting purposes (connecting the dots), you'll need to sort by the values of sqft_living. For houses with identical square footage, we break the tie by their prices."
   ]
  },
  {
   "cell_type": "code",
   "execution_count": 12,
   "metadata": {},
   "outputs": [],
   "source": [
    "sales = sales.sort_values(['sqft_living', 'price'])"
   ]
  },
  {
   "cell_type": "code",
   "execution_count": 13,
   "metadata": {},
   "outputs": [
    {
     "data": {
      "text/html": [
       "<div>\n",
       "<style scoped>\n",
       "    .dataframe tbody tr th:only-of-type {\n",
       "        vertical-align: middle;\n",
       "    }\n",
       "\n",
       "    .dataframe tbody tr th {\n",
       "        vertical-align: top;\n",
       "    }\n",
       "\n",
       "    .dataframe thead th {\n",
       "        text-align: right;\n",
       "    }\n",
       "</style>\n",
       "<table border=\"1\" class=\"dataframe\">\n",
       "  <thead>\n",
       "    <tr style=\"text-align: right;\">\n",
       "      <th></th>\n",
       "      <th>id</th>\n",
       "      <th>date</th>\n",
       "      <th>price</th>\n",
       "      <th>bedrooms</th>\n",
       "      <th>bathrooms</th>\n",
       "      <th>sqft_living</th>\n",
       "      <th>sqft_lot</th>\n",
       "      <th>floors</th>\n",
       "      <th>waterfront</th>\n",
       "      <th>view</th>\n",
       "      <th>...</th>\n",
       "      <th>grade</th>\n",
       "      <th>sqft_above</th>\n",
       "      <th>sqft_basement</th>\n",
       "      <th>yr_built</th>\n",
       "      <th>yr_renovated</th>\n",
       "      <th>zipcode</th>\n",
       "      <th>lat</th>\n",
       "      <th>long</th>\n",
       "      <th>sqft_living15</th>\n",
       "      <th>sqft_lot15</th>\n",
       "    </tr>\n",
       "  </thead>\n",
       "  <tbody>\n",
       "    <tr>\n",
       "      <th>19452</th>\n",
       "      <td>3980300371</td>\n",
       "      <td>20140926T000000</td>\n",
       "      <td>142000.0</td>\n",
       "      <td>0.0</td>\n",
       "      <td>0.00</td>\n",
       "      <td>290.0</td>\n",
       "      <td>20875</td>\n",
       "      <td>1</td>\n",
       "      <td>0</td>\n",
       "      <td>0</td>\n",
       "      <td>...</td>\n",
       "      <td>1</td>\n",
       "      <td>290</td>\n",
       "      <td>0</td>\n",
       "      <td>1963</td>\n",
       "      <td>0</td>\n",
       "      <td>98024</td>\n",
       "      <td>47.5308</td>\n",
       "      <td>-121.888</td>\n",
       "      <td>1620.0</td>\n",
       "      <td>22850.0</td>\n",
       "    </tr>\n",
       "    <tr>\n",
       "      <th>15381</th>\n",
       "      <td>2856101479</td>\n",
       "      <td>20140701T000000</td>\n",
       "      <td>276000.0</td>\n",
       "      <td>1.0</td>\n",
       "      <td>0.75</td>\n",
       "      <td>370.0</td>\n",
       "      <td>1801</td>\n",
       "      <td>1</td>\n",
       "      <td>0</td>\n",
       "      <td>0</td>\n",
       "      <td>...</td>\n",
       "      <td>5</td>\n",
       "      <td>370</td>\n",
       "      <td>0</td>\n",
       "      <td>1923</td>\n",
       "      <td>0</td>\n",
       "      <td>98117</td>\n",
       "      <td>47.6778</td>\n",
       "      <td>-122.389</td>\n",
       "      <td>1340.0</td>\n",
       "      <td>5000.0</td>\n",
       "    </tr>\n",
       "    <tr>\n",
       "      <th>860</th>\n",
       "      <td>1723049033</td>\n",
       "      <td>20140620T000000</td>\n",
       "      <td>245000.0</td>\n",
       "      <td>1.0</td>\n",
       "      <td>0.75</td>\n",
       "      <td>380.0</td>\n",
       "      <td>15000</td>\n",
       "      <td>1</td>\n",
       "      <td>0</td>\n",
       "      <td>0</td>\n",
       "      <td>...</td>\n",
       "      <td>5</td>\n",
       "      <td>380</td>\n",
       "      <td>0</td>\n",
       "      <td>1963</td>\n",
       "      <td>0</td>\n",
       "      <td>98168</td>\n",
       "      <td>47.4810</td>\n",
       "      <td>-122.323</td>\n",
       "      <td>1170.0</td>\n",
       "      <td>15000.0</td>\n",
       "    </tr>\n",
       "    <tr>\n",
       "      <th>18379</th>\n",
       "      <td>1222029077</td>\n",
       "      <td>20141029T000000</td>\n",
       "      <td>265000.0</td>\n",
       "      <td>0.0</td>\n",
       "      <td>0.75</td>\n",
       "      <td>384.0</td>\n",
       "      <td>213444</td>\n",
       "      <td>1</td>\n",
       "      <td>0</td>\n",
       "      <td>0</td>\n",
       "      <td>...</td>\n",
       "      <td>4</td>\n",
       "      <td>384</td>\n",
       "      <td>0</td>\n",
       "      <td>2003</td>\n",
       "      <td>0</td>\n",
       "      <td>98070</td>\n",
       "      <td>47.4177</td>\n",
       "      <td>-122.491</td>\n",
       "      <td>1920.0</td>\n",
       "      <td>224341.0</td>\n",
       "    </tr>\n",
       "    <tr>\n",
       "      <th>4868</th>\n",
       "      <td>6896300380</td>\n",
       "      <td>20141002T000000</td>\n",
       "      <td>228000.0</td>\n",
       "      <td>0.0</td>\n",
       "      <td>1.00</td>\n",
       "      <td>390.0</td>\n",
       "      <td>5900</td>\n",
       "      <td>1</td>\n",
       "      <td>0</td>\n",
       "      <td>0</td>\n",
       "      <td>...</td>\n",
       "      <td>4</td>\n",
       "      <td>390</td>\n",
       "      <td>0</td>\n",
       "      <td>1953</td>\n",
       "      <td>0</td>\n",
       "      <td>98118</td>\n",
       "      <td>47.5260</td>\n",
       "      <td>-122.261</td>\n",
       "      <td>2170.0</td>\n",
       "      <td>6000.0</td>\n",
       "    </tr>\n",
       "    <tr>\n",
       "      <th>...</th>\n",
       "      <td>...</td>\n",
       "      <td>...</td>\n",
       "      <td>...</td>\n",
       "      <td>...</td>\n",
       "      <td>...</td>\n",
       "      <td>...</td>\n",
       "      <td>...</td>\n",
       "      <td>...</td>\n",
       "      <td>...</td>\n",
       "      <td>...</td>\n",
       "      <td>...</td>\n",
       "      <td>...</td>\n",
       "      <td>...</td>\n",
       "      <td>...</td>\n",
       "      <td>...</td>\n",
       "      <td>...</td>\n",
       "      <td>...</td>\n",
       "      <td>...</td>\n",
       "      <td>...</td>\n",
       "      <td>...</td>\n",
       "      <td>...</td>\n",
       "    </tr>\n",
       "    <tr>\n",
       "      <th>8092</th>\n",
       "      <td>1924059029</td>\n",
       "      <td>20140617T000000</td>\n",
       "      <td>4668000.0</td>\n",
       "      <td>5.0</td>\n",
       "      <td>6.75</td>\n",
       "      <td>9640.0</td>\n",
       "      <td>13068</td>\n",
       "      <td>1</td>\n",
       "      <td>1</td>\n",
       "      <td>4</td>\n",
       "      <td>...</td>\n",
       "      <td>12</td>\n",
       "      <td>4820</td>\n",
       "      <td>4820</td>\n",
       "      <td>1983</td>\n",
       "      <td>2009</td>\n",
       "      <td>98040</td>\n",
       "      <td>47.5570</td>\n",
       "      <td>-122.210</td>\n",
       "      <td>3270.0</td>\n",
       "      <td>10454.0</td>\n",
       "    </tr>\n",
       "    <tr>\n",
       "      <th>9254</th>\n",
       "      <td>9208900037</td>\n",
       "      <td>20140919T000000</td>\n",
       "      <td>6885000.0</td>\n",
       "      <td>6.0</td>\n",
       "      <td>7.75</td>\n",
       "      <td>9890.0</td>\n",
       "      <td>31374</td>\n",
       "      <td>2</td>\n",
       "      <td>0</td>\n",
       "      <td>4</td>\n",
       "      <td>...</td>\n",
       "      <td>13</td>\n",
       "      <td>8860</td>\n",
       "      <td>1030</td>\n",
       "      <td>2001</td>\n",
       "      <td>0</td>\n",
       "      <td>98039</td>\n",
       "      <td>47.6305</td>\n",
       "      <td>-122.240</td>\n",
       "      <td>4540.0</td>\n",
       "      <td>42730.0</td>\n",
       "    </tr>\n",
       "    <tr>\n",
       "      <th>3914</th>\n",
       "      <td>9808700762</td>\n",
       "      <td>20140611T000000</td>\n",
       "      <td>7062500.0</td>\n",
       "      <td>5.0</td>\n",
       "      <td>4.50</td>\n",
       "      <td>10040.0</td>\n",
       "      <td>37325</td>\n",
       "      <td>2</td>\n",
       "      <td>1</td>\n",
       "      <td>2</td>\n",
       "      <td>...</td>\n",
       "      <td>11</td>\n",
       "      <td>7680</td>\n",
       "      <td>2360</td>\n",
       "      <td>1940</td>\n",
       "      <td>2001</td>\n",
       "      <td>98004</td>\n",
       "      <td>47.6500</td>\n",
       "      <td>-122.214</td>\n",
       "      <td>3930.0</td>\n",
       "      <td>25449.0</td>\n",
       "    </tr>\n",
       "    <tr>\n",
       "      <th>7252</th>\n",
       "      <td>6762700020</td>\n",
       "      <td>20141013T000000</td>\n",
       "      <td>7700000.0</td>\n",
       "      <td>6.0</td>\n",
       "      <td>8.00</td>\n",
       "      <td>12050.0</td>\n",
       "      <td>27600</td>\n",
       "      <td>2.5</td>\n",
       "      <td>0</td>\n",
       "      <td>3</td>\n",
       "      <td>...</td>\n",
       "      <td>13</td>\n",
       "      <td>8570</td>\n",
       "      <td>3480</td>\n",
       "      <td>1910</td>\n",
       "      <td>1987</td>\n",
       "      <td>98102</td>\n",
       "      <td>47.6298</td>\n",
       "      <td>-122.323</td>\n",
       "      <td>3940.0</td>\n",
       "      <td>8800.0</td>\n",
       "    </tr>\n",
       "    <tr>\n",
       "      <th>12777</th>\n",
       "      <td>1225069038</td>\n",
       "      <td>20140505T000000</td>\n",
       "      <td>2280000.0</td>\n",
       "      <td>7.0</td>\n",
       "      <td>8.00</td>\n",
       "      <td>13540.0</td>\n",
       "      <td>307752</td>\n",
       "      <td>3</td>\n",
       "      <td>0</td>\n",
       "      <td>4</td>\n",
       "      <td>...</td>\n",
       "      <td>12</td>\n",
       "      <td>9410</td>\n",
       "      <td>4130</td>\n",
       "      <td>1999</td>\n",
       "      <td>0</td>\n",
       "      <td>98053</td>\n",
       "      <td>47.6675</td>\n",
       "      <td>-121.986</td>\n",
       "      <td>4850.0</td>\n",
       "      <td>217800.0</td>\n",
       "    </tr>\n",
       "  </tbody>\n",
       "</table>\n",
       "<p>21613 rows × 21 columns</p>\n",
       "</div>"
      ],
      "text/plain": [
       "               id             date      price  bedrooms  bathrooms  \\\n",
       "19452  3980300371  20140926T000000   142000.0       0.0       0.00   \n",
       "15381  2856101479  20140701T000000   276000.0       1.0       0.75   \n",
       "860    1723049033  20140620T000000   245000.0       1.0       0.75   \n",
       "18379  1222029077  20141029T000000   265000.0       0.0       0.75   \n",
       "4868   6896300380  20141002T000000   228000.0       0.0       1.00   \n",
       "...           ...              ...        ...       ...        ...   \n",
       "8092   1924059029  20140617T000000  4668000.0       5.0       6.75   \n",
       "9254   9208900037  20140919T000000  6885000.0       6.0       7.75   \n",
       "3914   9808700762  20140611T000000  7062500.0       5.0       4.50   \n",
       "7252   6762700020  20141013T000000  7700000.0       6.0       8.00   \n",
       "12777  1225069038  20140505T000000  2280000.0       7.0       8.00   \n",
       "\n",
       "       sqft_living  sqft_lot floors  waterfront  view  ...  grade  sqft_above  \\\n",
       "19452        290.0     20875      1           0     0  ...      1         290   \n",
       "15381        370.0      1801      1           0     0  ...      5         370   \n",
       "860          380.0     15000      1           0     0  ...      5         380   \n",
       "18379        384.0    213444      1           0     0  ...      4         384   \n",
       "4868         390.0      5900      1           0     0  ...      4         390   \n",
       "...            ...       ...    ...         ...   ...  ...    ...         ...   \n",
       "8092        9640.0     13068      1           1     4  ...     12        4820   \n",
       "9254        9890.0     31374      2           0     4  ...     13        8860   \n",
       "3914       10040.0     37325      2           1     2  ...     11        7680   \n",
       "7252       12050.0     27600    2.5           0     3  ...     13        8570   \n",
       "12777      13540.0    307752      3           0     4  ...     12        9410   \n",
       "\n",
       "       sqft_basement  yr_built  yr_renovated  zipcode      lat     long  \\\n",
       "19452              0      1963             0    98024  47.5308 -121.888   \n",
       "15381              0      1923             0    98117  47.6778 -122.389   \n",
       "860                0      1963             0    98168  47.4810 -122.323   \n",
       "18379              0      2003             0    98070  47.4177 -122.491   \n",
       "4868               0      1953             0    98118  47.5260 -122.261   \n",
       "...              ...       ...           ...      ...      ...      ...   \n",
       "8092            4820      1983          2009    98040  47.5570 -122.210   \n",
       "9254            1030      2001             0    98039  47.6305 -122.240   \n",
       "3914            2360      1940          2001    98004  47.6500 -122.214   \n",
       "7252            3480      1910          1987    98102  47.6298 -122.323   \n",
       "12777           4130      1999             0    98053  47.6675 -121.986   \n",
       "\n",
       "       sqft_living15  sqft_lot15  \n",
       "19452         1620.0     22850.0  \n",
       "15381         1340.0      5000.0  \n",
       "860           1170.0     15000.0  \n",
       "18379         1920.0    224341.0  \n",
       "4868          2170.0      6000.0  \n",
       "...              ...         ...  \n",
       "8092          3270.0     10454.0  \n",
       "9254          4540.0     42730.0  \n",
       "3914          3930.0     25449.0  \n",
       "7252          3940.0      8800.0  \n",
       "12777         4850.0    217800.0  \n",
       "\n",
       "[21613 rows x 21 columns]"
      ]
     },
     "execution_count": 13,
     "metadata": {},
     "output_type": "execute_result"
    }
   ],
   "source": [
    "sales"
   ]
  },
  {
   "cell_type": "markdown",
   "metadata": {},
   "source": [
    "Let's start with a degree 1 polynomial using 'sqft_living' (i.e. a line) to predict 'price' and plot what it looks like."
   ]
  },
  {
   "cell_type": "code",
   "execution_count": 14,
   "metadata": {},
   "outputs": [],
   "source": [
    "poly1_data = polynomial_dataframe(sales['sqft_living'], 1)"
   ]
  },
  {
   "cell_type": "code",
   "execution_count": 15,
   "metadata": {},
   "outputs": [
    {
     "data": {
      "text/html": [
       "<div>\n",
       "<style scoped>\n",
       "    .dataframe tbody tr th:only-of-type {\n",
       "        vertical-align: middle;\n",
       "    }\n",
       "\n",
       "    .dataframe tbody tr th {\n",
       "        vertical-align: top;\n",
       "    }\n",
       "\n",
       "    .dataframe thead th {\n",
       "        text-align: right;\n",
       "    }\n",
       "</style>\n",
       "<table border=\"1\" class=\"dataframe\">\n",
       "  <thead>\n",
       "    <tr style=\"text-align: right;\">\n",
       "      <th></th>\n",
       "      <th>power_1</th>\n",
       "      <th>price</th>\n",
       "    </tr>\n",
       "  </thead>\n",
       "  <tbody>\n",
       "    <tr>\n",
       "      <th>19452</th>\n",
       "      <td>290.0</td>\n",
       "      <td>142000.0</td>\n",
       "    </tr>\n",
       "    <tr>\n",
       "      <th>15381</th>\n",
       "      <td>370.0</td>\n",
       "      <td>276000.0</td>\n",
       "    </tr>\n",
       "    <tr>\n",
       "      <th>860</th>\n",
       "      <td>380.0</td>\n",
       "      <td>245000.0</td>\n",
       "    </tr>\n",
       "    <tr>\n",
       "      <th>18379</th>\n",
       "      <td>384.0</td>\n",
       "      <td>265000.0</td>\n",
       "    </tr>\n",
       "    <tr>\n",
       "      <th>4868</th>\n",
       "      <td>390.0</td>\n",
       "      <td>228000.0</td>\n",
       "    </tr>\n",
       "    <tr>\n",
       "      <th>...</th>\n",
       "      <td>...</td>\n",
       "      <td>...</td>\n",
       "    </tr>\n",
       "    <tr>\n",
       "      <th>8092</th>\n",
       "      <td>9640.0</td>\n",
       "      <td>4668000.0</td>\n",
       "    </tr>\n",
       "    <tr>\n",
       "      <th>9254</th>\n",
       "      <td>9890.0</td>\n",
       "      <td>6885000.0</td>\n",
       "    </tr>\n",
       "    <tr>\n",
       "      <th>3914</th>\n",
       "      <td>10040.0</td>\n",
       "      <td>7062500.0</td>\n",
       "    </tr>\n",
       "    <tr>\n",
       "      <th>7252</th>\n",
       "      <td>12050.0</td>\n",
       "      <td>7700000.0</td>\n",
       "    </tr>\n",
       "    <tr>\n",
       "      <th>12777</th>\n",
       "      <td>13540.0</td>\n",
       "      <td>2280000.0</td>\n",
       "    </tr>\n",
       "  </tbody>\n",
       "</table>\n",
       "<p>21613 rows × 2 columns</p>\n",
       "</div>"
      ],
      "text/plain": [
       "       power_1      price\n",
       "19452    290.0   142000.0\n",
       "15381    370.0   276000.0\n",
       "860      380.0   245000.0\n",
       "18379    384.0   265000.0\n",
       "4868     390.0   228000.0\n",
       "...        ...        ...\n",
       "8092    9640.0  4668000.0\n",
       "9254    9890.0  6885000.0\n",
       "3914   10040.0  7062500.0\n",
       "7252   12050.0  7700000.0\n",
       "12777  13540.0  2280000.0\n",
       "\n",
       "[21613 rows x 2 columns]"
      ]
     },
     "execution_count": 15,
     "metadata": {},
     "output_type": "execute_result"
    }
   ],
   "source": [
    "poly1_data['price'] = sales['price']\n",
    "poly1_data"
   ]
  },
  {
   "cell_type": "code",
   "execution_count": 16,
   "metadata": {},
   "outputs": [
    {
     "name": "stderr",
     "output_type": "stream",
     "text": [
      "/Library/Frameworks/Python.framework/Versions/3.7/lib/python3.7/site-packages/sklearn/linear_model/_base.py:533: RuntimeWarning: internal gelsd driver lwork query error, required iwork dimension not returned. This is likely the result of LAPACK bug 0038, fixed in LAPACK 3.2.2 (released July 21, 2010). Falling back to 'gelss' driver.\n",
      "  linalg.lstsq(X, y)\n"
     ]
    }
   ],
   "source": [
    "from sklearn.linear_model import LinearRegression\n",
    "features = ['power_1']\n",
    "model1 = LinearRegression().fit(poly1_data[features], poly1_data['price'])"
   ]
  },
  {
   "cell_type": "code",
   "execution_count": 17,
   "metadata": {},
   "outputs": [
    {
     "data": {
      "text/plain": [
       "array([280.6235679])"
      ]
     },
     "execution_count": 17,
     "metadata": {},
     "output_type": "execute_result"
    }
   ],
   "source": [
    "model1.coef_"
   ]
  },
  {
   "cell_type": "code",
   "execution_count": 18,
   "metadata": {},
   "outputs": [],
   "source": [
    "import matplotlib.pyplot as plt\n",
    "%matplotlib inline"
   ]
  },
  {
   "cell_type": "code",
   "execution_count": 20,
   "metadata": {
    "scrolled": true
   },
   "outputs": [
    {
     "data": {
      "text/plain": [
       "[<matplotlib.lines.Line2D at 0x7fba607fee48>,\n",
       " <matplotlib.lines.Line2D at 0x7fba607feb70>]"
      ]
     },
     "execution_count": 20,
     "metadata": {},
     "output_type": "execute_result"
    },
    {
     "data": {
      "image/png": "[encoded data removed]",
      "text/plain": [
       "<Figure size 432x288 with 1 Axes>"
      ]
     },
     "metadata": {
      "needs_background": "light"
     },
     "output_type": "display_data"
    }
   ],
   "source": [
    "plt.plot(poly1_data['power_1'], poly1_data['price'], '.',\n",
    "         poly1_data['power_1'], model1.predict(poly1_data[features]), '-')"
   ]
  },
  {
   "cell_type": "markdown",
   "metadata": {},
   "source": [
    "Let's unpack that plt.plot() command. The first pair of SArrays we passed are the 1st power of sqft and the actual price we then ask it to print these as dots '.'. The next pair we pass is the 1st power of sqft and the predicted values from the linear model. We ask these to be plotted as a line '-'. \n",
    "\n",
    "We can see, not surprisingly, that the predicted values all fall on a line, specifically the one with slope 280 and intercept -43579. What if we wanted to plot a second degree polynomial?"
   ]
  },
  {
   "cell_type": "code",
   "execution_count": 24,
   "metadata": {},
   "outputs": [],
   "source": [
    "poly2_data = polynomial_dataframe(sales['sqft_living'], 2)\n",
    "poly2_features = list(poly2_data.columns.values) # get the name of the features\n",
    "# print(poly2_features)\n",
    "poly2_data['price'] = sales['price'] # add price to the data since it's the target\n",
    "model2 = LinearRegression().fit(poly2_data[poly2_features], poly2_data['price'])"
   ]
  },
  {
   "cell_type": "code",
   "execution_count": 25,
   "metadata": {},
   "outputs": [
    {
     "name": "stdout",
     "output_type": "stream",
     "text": [
      "coefficents:  [6.79940947e+01 3.85812609e-02]\n",
      "intercept:  199222.27930548484\n"
     ]
    }
   ],
   "source": [
    "print(\"coefficents: \", model2.coef_)\n",
    "print(\"intercept: \", model2.intercept_)"
   ]
  },
  {
   "cell_type": "code",
   "execution_count": 27,
   "metadata": {},
   "outputs": [
    {
     "data": {
      "text/plain": [
       "[<matplotlib.lines.Line2D at 0x7fba608fa7b8>,\n",
       " <matplotlib.lines.Line2D at 0x7fba608fa2b0>]"
      ]
     },
     "execution_count": 27,
     "metadata": {},
     "output_type": "execute_result"
    },
    {
     "data": {
      "image/png": "[encoded data removed]",
      "text/plain": [
       "<Figure size 432x288 with 1 Axes>"
      ]
     },
     "metadata": {
      "needs_background": "light"
     },
     "output_type": "display_data"
    }
   ],
   "source": [
    "plt.plot(poly2_data['power_1'], poly2_data['price'], '.',\n",
    "         poly2_data['power_1'], model2.predict(poly2_data[poly2_features]), '-')"
   ]
  },
  {
   "cell_type": "markdown",
   "metadata": {},
   "source": [
    "The resulting model looks like half a parabola. Try on your own to see what the cubic looks like:"
   ]
  },
  {
   "cell_type": "code",
   "execution_count": 28,
   "metadata": {},
   "outputs": [],
   "source": [
    "poly3_data = polynomial_dataframe(sales['sqft_living'], 3)\n",
    "poly3_features = list(poly3_data.columns.values) # get the name of the features\n",
    "# print(poly2_features)\n",
    "poly3_data['price'] = sales['price'] # add price to the data since it's the target\n",
    "model3 = LinearRegression().fit(poly3_data[poly3_features], poly3_data['price'])"
   ]
  },
  {
   "cell_type": "code",
   "execution_count": 29,
   "metadata": {},
   "outputs": [
    {
     "name": "stdout",
     "output_type": "stream",
     "text": [
      "coefficents:  [-9.01819864e+01  8.70465089e-02 -3.84055260e-06]\n",
      "intercept:  336819.7482213281\n"
     ]
    }
   ],
   "source": [
    "print(\"coefficents: \", model3.coef_)\n",
    "print(\"intercept: \", model3.intercept_)"
   ]
  },
  {
   "cell_type": "code",
   "execution_count": 30,
   "metadata": {},
   "outputs": [
    {
     "data": {
      "text/plain": [
       "[<matplotlib.lines.Line2D at 0x7fba60579f60>,\n",
       " <matplotlib.lines.Line2D at 0x7fba604933c8>]"
      ]
     },
     "execution_count": 30,
     "metadata": {},
     "output_type": "execute_result"
    },
    {
     "data": {
      "image/png": "[encoded data removed]",
      "text/plain": [
       "<Figure size 432x288 with 1 Axes>"
      ]
     },
     "metadata": {
      "needs_background": "light"
     },
     "output_type": "display_data"
    }
   ],
   "source": [
    "plt.plot(poly3_data['power_1'], poly3_data['price'], '.',\n",
    "         poly3_data['power_1'], model3.predict(poly3_data[poly3_features]), '-')"
   ]
  },
  {
   "cell_type": "markdown",
   "metadata": {},
   "source": [
    "Now try a 15th degree polynomial:"
   ]
  },
  {
   "cell_type": "code",
   "execution_count": 31,
   "metadata": {},
   "outputs": [],
   "source": [
    "poly15_data = polynomial_dataframe(sales['sqft_living'], 15)\n",
    "poly15_features = list(poly15_data.columns.values) # get the name of the features\n",
    "# print(poly2_features)\n",
    "poly15_data['price'] = sales['price'] # add price to the data since it's the target\n",
    "model15 = LinearRegression().fit(poly15_data[poly15_features], poly15_data['price'])"
   ]
  },
  {
   "cell_type": "code",
   "execution_count": 32,
   "metadata": {},
   "outputs": [
    {
     "name": "stdout",
     "output_type": "stream",
     "text": [
      "coefficents:  [ 4.56404164e-91 -6.93233702e-51  7.03032121e-56 -2.26063619e-60\n",
      "  1.02490438e-74  2.68575522e-71  2.26147568e-67  1.85900299e-63\n",
      "  1.47144116e-59  1.09771012e-55  7.43509038e-52  4.23015578e-48\n",
      "  1.61618577e-44 -2.49283826e-48  9.59718336e-53]\n",
      "intercept:  537116.3296376602\n"
     ]
    }
   ],
   "source": [
    "print(\"coefficents: \", model15.coef_)\n",
    "print(\"intercept: \", model15.intercept_)"
   ]
  },
  {
   "cell_type": "code",
   "execution_count": 33,
   "metadata": {
    "scrolled": true
   },
   "outputs": [
    {
     "data": {
      "text/plain": [
       "[<matplotlib.lines.Line2D at 0x7fba6094e2b0>,\n",
       " <matplotlib.lines.Line2D at 0x7fba6095f128>]"
      ]
     },
     "execution_count": 33,
     "metadata": {},
     "output_type": "execute_result"
    },
    {
     "data": {
      "image/png": "[encoded data removed]",
      "text/plain": [
       "<Figure size 432x288 with 1 Axes>"
      ]
     },
     "metadata": {
      "needs_background": "light"
     },
     "output_type": "display_data"
    }
   ],
   "source": [
    "plt.plot(poly15_data['power_1'], poly15_data['price'], '.',\n",
    "         poly15_data['power_1'], model15.predict(poly15_data[poly15_features]), '-')"
   ]
  },
  {
   "cell_type": "markdown",
   "metadata": {},
   "source": [
    "What do you think of the 15th degree polynomial? Do you think this is appropriate? If we were to change the data do you think you'd get pretty much the same curve? Let's take a look."
   ]
  },
  {
   "cell_type": "markdown",
   "metadata": {},
   "source": [
    "# Changing the data and re-learning"
   ]
  },
  {
   "cell_type": "markdown",
   "metadata": {},
   "source": [
    "We're going to split the sales data into four subsets of roughly equal size. Then you will estimate a 15th degree polynomial model on all four subsets of the data. Print the coefficients (you should use .print_rows(num_rows = 16) to view all of them) and plot the resulting fit (as we did above). The quiz will ask you some questions about these results.\n",
    "\n",
    "To split the sales data into four subsets, we perform the following steps:\n",
    "* First split sales into 2 subsets with `.random_split(0.5, seed=0)`. \n",
    "* Next split the resulting subsets into 2 more subsets each. Use `.random_split(0.5, seed=0)`.\n",
    "\n",
    "We set `seed=0` in these steps so that different users get consistent results.\n",
    "You should end up with 4 subsets (`set_1`, `set_2`, `set_3`, `set_4`) of approximately equal size. "
   ]
  },
  {
   "cell_type": "code",
   "execution_count": 34,
   "metadata": {},
   "outputs": [],
   "source": [
    "sales_set1 = pd.read_csv(\"wk3_kc_house_set_1_data.csv\", dtype = dtype_dict)\n",
    "sales_set2 = pd.read_csv(\"wk3_kc_house_set_2_data.csv\", dtype = dtype_dict)\n",
    "sales_set3 = pd.read_csv(\"wk3_kc_house_set_3_data.csv\", dtype = dtype_dict)\n",
    "sales_set4 = pd.read_csv(\"wk3_kc_house_set_4_data.csv\", dtype = dtype_dict)"
   ]
  },
  {
   "cell_type": "markdown",
   "metadata": {},
   "source": [
    "Fit a 15th degree polynomial on set_1, set_2, set_3, and set_4 using sqft_living to predict prices. Print the coefficients and make a plot of the resulting model."
   ]
  },
  {
   "cell_type": "markdown",
   "metadata": {},
   "source": [
    "### 15 Degree regression for set 1"
   ]
  },
  {
   "cell_type": "code",
   "execution_count": 35,
   "metadata": {},
   "outputs": [],
   "source": [
    "poly15_set1 = polynomial_dataframe(sales_set1['sqft_living'], 15)\n",
    "poly15_set1_features = list(poly15_set1.columns.values) # get the name of the features\n",
    "# print(poly2_features)\n",
    "poly15_set1['price'] = sales_set1['price'] # add price to the data since it's the target\n",
    "model_set1 = LinearRegression().fit(poly15_set1[poly15_set1_features], poly15_set1['price'])"
   ]
  },
  {
   "cell_type": "code",
   "execution_count": 36,
   "metadata": {},
   "outputs": [
    {
     "name": "stdout",
     "output_type": "stream",
     "text": [
      "coefficents:  [ 3.05794168e-90  4.79666886e-49  2.02961624e-55 -6.69342318e-60\n",
      " -4.71722771e-74  1.10358333e-70  8.37724029e-67  6.23411957e-63\n",
      "  4.49156442e-59  3.06938762e-55  1.91749300e-51  1.01335180e-47\n",
      "  3.62176959e-44 -5.63501661e-48  2.18641116e-52]\n",
      "intercept:  539058.8186702975\n"
     ]
    }
   ],
   "source": [
    "print(\"coefficents: \", model_set1.coef_)\n",
    "print(\"intercept: \", model_set1.intercept_)"
   ]
  },
  {
   "cell_type": "code",
   "execution_count": 37,
   "metadata": {},
   "outputs": [
    {
     "data": {
      "text/plain": [
       "[<matplotlib.lines.Line2D at 0x7fba61fc7630>,\n",
       " <matplotlib.lines.Line2D at 0x7fba61fc7898>]"
      ]
     },
     "execution_count": 37,
     "metadata": {},
     "output_type": "execute_result"
    },
    {
     "data": {
      "image/png": "[encoded data removed]",
      "text/plain": [
       "<Figure size 432x288 with 1 Axes>"
      ]
     },
     "metadata": {
      "needs_background": "light"
     },
     "output_type": "display_data"
    }
   ],
   "source": [
    "plt.plot(poly15_set1['power_1'], poly15_set1['price'], '.',\n",
    "         poly15_set1['power_1'], model_set1.predict(poly15_set1[poly15_set1_features]), '-')"
   ]
  },
  {
   "cell_type": "markdown",
   "metadata": {},
   "source": [
    "### 15 Degree regression for set 2"
   ]
  },
  {
   "cell_type": "code",
   "execution_count": 38,
   "metadata": {},
   "outputs": [],
   "source": [
    "poly15_set2 = polynomial_dataframe(sales_set2['sqft_living'], 15)\n",
    "poly15_set2_features = list(poly15_set2.columns.values) # get the name of the features\n",
    "# print(poly2_features)\n",
    "poly15_set2['price'] = sales_set2['price'] # add price to the data since it's the target\n",
    "model_set2 = LinearRegression().fit(poly15_set2[poly15_set2_features], poly15_set2['price'])"
   ]
  },
  {
   "cell_type": "code",
   "execution_count": 39,
   "metadata": {},
   "outputs": [
    {
     "name": "stdout",
     "output_type": "stream",
     "text": [
      "coefficents:  [ 2.72254143e-77  1.35864134e-39 -3.41084176e-44  2.74326778e-49\n",
      " -6.30068209e-54 -6.30631754e-57  3.65393410e-55  1.50813937e-51\n",
      "  5.77710031e-48  1.96397880e-44  5.41249361e-41  9.43795201e-38\n",
      " -3.64776947e-41  4.66992192e-45 -1.97813283e-49]\n",
      "intercept:  506814.6372717412\n"
     ]
    }
   ],
   "source": [
    "print(\"coefficents: \", model_set2.coef_)\n",
    "print(\"intercept: \", model_set2.intercept_)"
   ]
  },
  {
   "cell_type": "code",
   "execution_count": 41,
   "metadata": {},
   "outputs": [
    {
     "data": {
      "text/plain": [
       "[<matplotlib.lines.Line2D at 0x7fba61d6df28>,\n",
       " <matplotlib.lines.Line2D at 0x7fba61d7a0b8>]"
      ]
     },
     "execution_count": 41,
     "metadata": {},
     "output_type": "execute_result"
    },
    {
     "data": {
      "image/png": "[encoded data removed]",
      "text/plain": [
       "<Figure size 432x288 with 1 Axes>"
      ]
     },
     "metadata": {
      "needs_background": "light"
     },
     "output_type": "display_data"
    }
   ],
   "source": [
    "plt.plot(poly15_set2['power_1'], poly15_set2['price'], '.',\n",
    "         poly15_set2['power_1'], model_set2.predict(poly15_set2[poly15_set2_features]), '-')"
   ]
  },
  {
   "cell_type": "markdown",
   "metadata": {},
   "source": [
    "### 15 Degree regression for set 3"
   ]
  },
  {
   "cell_type": "code",
   "execution_count": 42,
   "metadata": {},
   "outputs": [],
   "source": [
    "poly15_set3 = polynomial_dataframe(sales_set3['sqft_living'], 15)\n",
    "poly15_set3_features = list(poly15_set3.columns.values) # get the name of the features\n",
    "# print(poly2_features)\n",
    "poly15_set3['price'] = sales_set3['price'] # add price to the data since it's the target\n",
    "model_set3 = LinearRegression().fit(poly15_set3[poly15_set3_features], poly15_set3['price'])"
   ]
  },
  {
   "cell_type": "code",
   "execution_count": 43,
   "metadata": {},
   "outputs": [
    {
     "name": "stdout",
     "output_type": "stream",
     "text": [
      "coefficents:  [ 2.83751934e-88 -4.47310241e-49  1.24161609e-54  4.12875622e-59\n",
      "  1.60917811e-72  4.27894908e-69  2.68009626e-65  1.63911362e-61\n",
      "  9.66435015e-58  5.38044653e-54  2.72563636e-50  1.16253248e-46\n",
      "  3.33756141e-43 -6.76238818e-47  3.43132932e-51]\n",
      "intercept:  530874.3166534351\n"
     ]
    }
   ],
   "source": [
    "print(\"coefficents: \", model_set3.coef_)\n",
    "print(\"intercept: \", model_set3.intercept_)"
   ]
  },
  {
   "cell_type": "code",
   "execution_count": 44,
   "metadata": {},
   "outputs": [
    {
     "data": {
      "text/plain": [
       "[<matplotlib.lines.Line2D at 0x7fba61d9bd68>,\n",
       " <matplotlib.lines.Line2D at 0x7fba62109c88>]"
      ]
     },
     "execution_count": 44,
     "metadata": {},
     "output_type": "execute_result"
    },
    {
     "data": {
      "image/png": "[encoded data removed]",
      "text/plain": [
       "<Figure size 432x288 with 1 Axes>"
      ]
     },
     "metadata": {
      "needs_background": "light"
     },
     "output_type": "display_data"
    }
   ],
   "source": [
    "plt.plot(poly15_set3['power_1'], poly15_set3['price'], '.',\n",
    "         poly15_set3['power_1'], model_set3.predict(poly15_set3[poly15_set3_features]), '-')"
   ]
  },
  {
   "cell_type": "markdown",
   "metadata": {},
   "source": [
    "### 15 Degree regression for set 4"
   ]
  },
  {
   "cell_type": "code",
   "execution_count": 45,
   "metadata": {},
   "outputs": [],
   "source": [
    "poly15_set4 = polynomial_dataframe(sales_set4['sqft_living'], 15)\n",
    "poly15_set4_features = list(poly15_set4.columns.values) # get the name of the features\n",
    "# print(poly2_features)\n",
    "poly15_set4['price'] = sales_set4['price'] # add price to the data since it's the target\n",
    "model_set4 = LinearRegression().fit(poly15_set4[poly15_set4_features], poly15_set4['price'])"
   ]
  },
  {
   "cell_type": "code",
   "execution_count": 46,
   "metadata": {},
   "outputs": [
    {
     "name": "stdout",
     "output_type": "stream",
     "text": [
      "coefficents:  [ 1.37112867e-76  5.56998622e-39 -1.35742659e-44  5.25960597e-49\n",
      "  1.06147789e-53  7.66655043e-58  1.27040331e-54  4.87739928e-51\n",
      "  1.73498640e-47  5.46887520e-44  1.39541396e-40  2.24963730e-37\n",
      " -9.43646429e-41  1.31532600e-44 -6.08985682e-49]\n",
      "intercept:  494837.7335429301\n"
     ]
    }
   ],
   "source": [
    "print(\"coefficents: \", model_set4.coef_)\n",
    "print(\"intercept: \", model_set4.intercept_)"
   ]
  },
  {
   "cell_type": "code",
   "execution_count": 47,
   "metadata": {
    "scrolled": true
   },
   "outputs": [
    {
     "data": {
      "text/plain": [
       "[<matplotlib.lines.Line2D at 0x7fba62392a58>,\n",
       " <matplotlib.lines.Line2D at 0x7fba62401e80>]"
      ]
     },
     "execution_count": 47,
     "metadata": {},
     "output_type": "execute_result"
    },
    {
     "data": {
      "image/png": "[encoded data removed]",
      "text/plain": [
       "<Figure size 432x288 with 1 Axes>"
      ]
     },
     "metadata": {
      "needs_background": "light"
     },
     "output_type": "display_data"
    }
   ],
   "source": [
    "plt.plot(poly15_set4['power_1'], poly15_set4['price'], '.',\n",
    "         poly15_set4['power_1'], model_set4.predict(poly15_set4[poly15_set4_features]), '-')"
   ]
  },
  {
   "cell_type": "markdown",
   "metadata": {},
   "source": [
    "# Selecting a Polynomial Degree"
   ]
  },
  {
   "cell_type": "markdown",
   "metadata": {},
   "source": [
    "Whenever we have a \"magic\" parameter like the degree of the polynomial there is one well-known way to select these parameters: validation set. (We will explore another approach in week 4).\n",
    "\n",
    "We split the sales dataset 3-way into training set, test set, and validation set as follows:\n",
    "\n",
    "* Split our sales data into 2 sets: `training_and_validation` and `testing`. Use `random_split(0.9, seed=1)`.\n",
    "* Further split our training data into two sets: `training` and `validation`. Use `random_split(0.5, seed=1)`.\n",
    "\n",
    "Again, we set `seed=1` to obtain consistent results for different users."
   ]
  },
  {
   "cell_type": "code",
   "execution_count": 48,
   "metadata": {},
   "outputs": [],
   "source": [
    "sales_train_data = pd.read_csv('wk3_kc_house_train_data.csv', dtype = dtype_dict)\n",
    "sales_test_data = pd.read_csv(\"wk3_kc_house_test_data.csv\", dtype = dtype_dict)\n",
    "sales_valid_data = pd.read_csv('wk3_kc_house_valid_data.csv', dtype = dtype_dict)"
   ]
  },
  {
   "cell_type": "markdown",
   "metadata": {},
   "source": [
    "Next you should write a loop that does the following:\n",
    "* For degree in [1, 2, 3, 4, 5, 6, 7, 8, 9, 10, 11, 12, 13, 14, 15] (to get this in python type range(1, 15+1))\n",
    "    * Build an SFrame of polynomial data of train_data['sqft_living'] at the current degree\n",
    "    * hint: my_features = poly_data.column_names() gives you a list e.g. ['power_1', 'power_2', 'power_3'] which you might find useful for turicreate.linear_regression.create( features = my_features)\n",
    "    * Add train_data['price'] to the polynomial SFrame\n",
    "    * Learn a polynomial regression model to sqft vs price with that degree on TRAIN data\n",
    "    * Compute the RSS on VALIDATION data (here you will want to use .predict()) for that degree and you will need to make a polynmial SFrame using validation data.\n",
    "* Report which degree had the lowest RSS on validation data (remember python indexes from 0)\n",
    "\n",
    "(Note you can turn off the print out of linear_regression.create() with verbose = False)"
   ]
  },
  {
   "cell_type": "code",
   "execution_count": 51,
   "metadata": {},
   "outputs": [
    {
     "name": "stdout",
     "output_type": "stream",
     "text": [
      "RSS of 1:  629097886299585.8\n",
      "RSS of 2:  623955062706518.0\n",
      "RSS of 3:  625820280251623.5\n",
      "RSS of 4:  629987337526010.2\n",
      "RSS of 5:  628217734042126.9\n",
      "RSS of 6:  566268592593915.0\n",
      "RSS of 7:  1073845609085429.2\n",
      "RSS of 8:  7087893224985652.0\n",
      "RSS of 9:  4.530093012384988e+16\n",
      "RSS of 10:  2.4717851220185283e+17\n",
      "RSS of 11:  1.188319066567466e+18\n",
      "RSS of 12:  5.219042214911123e+18\n",
      "RSS of 13:  7.616230021252383e+17\n",
      "RSS of 14:  2.2975609252264435e+18\n",
      "RSS of 15:  6.955038094338192e+18\n",
      "[6.29097886e+14 6.23955063e+14 6.25820280e+14 6.29987338e+14\n",
      " 6.28217734e+14 5.66268593e+14 1.07384561e+15 7.08789322e+15\n",
      " 4.53009301e+16 2.47178512e+17 1.18831907e+18 5.21904221e+18\n",
      " 7.61623002e+17 2.29756093e+18 6.95503809e+18]\n"
     ]
    }
   ],
   "source": [
    "empty_vector = np.empty(15)\n",
    "for degree in range(1, 15+1):\n",
    "    train_data = polynomial_dataframe(sales_train_data['sqft_living'], degree)\n",
    "    validation_data = polynomial_dataframe(sales_valid_data['sqft_living'], degree)\n",
    "    my_features = list(train_data.columns.values) # get the name of the features\n",
    "    train_data['price'] = sales_train_data['price']\n",
    "    train_model = LinearRegression().fit(train_data[my_features], train_data['price'])\n",
    "    predictions = train_model.predict(validation_data[my_features])\n",
    "    errors = sales_valid_data['price'] - predictions\n",
    "    square_errors = errors ** 2\n",
    "    RSS = square_errors.sum()\n",
    "    empty_vector[degree - 1] = RSS\n",
    "    print(\"RSS of \" + str(degree) + \": \", str(RSS))\n",
    "print(empty_vector)"
   ]
  },
  {
   "cell_type": "code",
   "execution_count": 52,
   "metadata": {},
   "outputs": [
    {
     "data": {
      "text/plain": [
       "135225112118842.42"
      ]
     },
     "execution_count": 52,
     "metadata": {},
     "output_type": "execute_result"
    }
   ],
   "source": [
    "train_data = polynomial_dataframe(sales_train_data['sqft_living'], 6)\n",
    "test_data = polynomial_dataframe(sales_test_data['sqft_living'], 6)\n",
    "my_features = list(train_data.columns.values)\n",
    "train_data['price'] = sales_train_data['price']\n",
    "train_model = LinearRegression().fit(train_data[my_features], train_data['price'])\n",
    "predictions = train_model.predict(test_data[my_features])\n",
    "errors = sales_test_data['price'] - predictions\n",
    "square_errors = errors ** 2\n",
    "RSS = square_errors.sum()\n",
    "RSS"
   ]
  },
  {
   "cell_type": "code",
   "execution_count": null,
   "metadata": {},
   "outputs": [],
   "source": []
  }
 ],
 "metadata": {
  "kernelspec": {
   "display_name": "Python 3",
   "language": "python",
   "name": "python3"
  },
  "language_info": {
   "codemirror_mode": {
    "name": "ipython",
    "version": 3
   },
   "file_extension": ".py",
   "mimetype": "text/x-python",
   "name": "python",
   "nbconvert_exporter": "python",
   "pygments_lexer": "ipython3",
   "version": "3.7.0"
  }
 },
 "nbformat": 4,
 "nbformat_minor": 4
}
