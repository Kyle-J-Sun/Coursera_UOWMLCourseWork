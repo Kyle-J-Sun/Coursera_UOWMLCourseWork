{
 "cells": [
  {
   "cell_type": "markdown",
   "metadata": {},
   "source": [
    "# Regression Week 4: Ridge Regression (interpretation)"
   ]
  },
  {
   "cell_type": "markdown",
   "metadata": {},
   "source": [
    "In this notebook, we will run ridge regression multiple times with different L2 penalties to see which one produces the best fit. We will revisit the example of polynomial regression as a means to see the effect of L2 regularization. In particular, we will:\n",
    "* Use a pre-built implementation of regression (Turi Create) to run polynomial regression\n",
    "* Use matplotlib to visualize polynomial regressions\n",
    "* Use a pre-built implementation of regression (Turi Create) to run polynomial regression, this time with L2 penalty\n",
    "* Use matplotlib to visualize polynomial regressions under L2 regularization\n",
    "* Choose best L2 penalty using cross-validation.\n",
    "* Assess the final fit using test data.\n",
    "\n",
    "We will continue to use the House data from previous notebooks.  (In the next programming assignment for this module, you will implement your own ridge regression learning algorithm using gradient descent.)"
   ]
  },
  {
   "cell_type": "code",
   "execution_count": 1,
   "metadata": {},
   "outputs": [],
   "source": [
    "import numpy as np\n",
    "import pandas as pd"
   ]
  },
  {
   "cell_type": "markdown",
   "metadata": {},
   "source": [
    "# Polynomial regression, revisited"
   ]
  },
  {
   "cell_type": "markdown",
   "metadata": {},
   "source": [
    "We build on the material from Week 3, where we wrote the function to produce an SFrame with columns containing the powers of a given input. Copy and paste the function `polynomial_sframe` from Week 3:"
   ]
  },
  {
   "cell_type": "code",
   "execution_count": 3,
   "metadata": {},
   "outputs": [],
   "source": [
    "def polynomial_dataframe(feature, degree):\n",
    "    # assume that degree >= 1\n",
    "    # initialize the SFrame:\n",
    "    poly_dataframe = pd.DataFrame()\n",
    "    # and set poly_sframe['power_1'] equal to the passed feature\n",
    "    poly_dataframe['power_1'] = feature\n",
    "    # first check if degree > 1\n",
    "    if degree > 1:\n",
    "        # then loop over the remaining degrees:\n",
    "        # range usually starts at 0 and stops at the endpoint-1. We want it to start at 2 and stop at degree\n",
    "        for power in range(2, degree+1):\n",
    "            #first we'll give the column a name:\n",
    "            name = 'power_' + str(power)\n",
    "            #then assign poly_sframe[name] to the appropriate power of feature\n",
    "            poly_dataframe[name] = feature ** power\n",
    "    return poly_dataframe"
   ]
  },
  {
   "cell_type": "markdown",
   "metadata": {},
   "source": [
    "Let's use matplotlib to visualize what a polynomial regression looks like on the house data."
   ]
  },
  {
   "cell_type": "code",
   "execution_count": 4,
   "metadata": {},
   "outputs": [],
   "source": [
    "import matplotlib.pyplot as plt\n",
    "%matplotlib inline"
   ]
  },
  {
   "cell_type": "code",
   "execution_count": 5,
   "metadata": {},
   "outputs": [],
   "source": [
    "dtype_dict = {'bathrooms':float, 'waterfront':int, 'sqft_above':int, 'sqft_living15':float, 'grade':int,\n",
    "              'yr_renovated':int, 'price':float, 'bedrooms':float, 'zipcode':str, 'long':float, 'sqft_lot15':float, \n",
    "              'sqft_living':float, 'floors':str, 'condition':int, 'lat':float, 'date':str, 'sqft_basement':int, \n",
    "              'yr_built':int, 'id':str, 'sqft_lot':int, 'view':int}\n",
    "sales = pd.read_csv('kc_house_data.csv', dtype = dtype_dict)"
   ]
  },
  {
   "cell_type": "markdown",
   "metadata": {},
   "source": [
    "As in Week 3, we will use the sqft_living variable. For plotting purposes (connecting the dots), you'll need to sort by the values of sqft_living. For houses with identical square footage, we break the tie by their prices."
   ]
  },
  {
   "cell_type": "code",
   "execution_count": 7,
   "metadata": {},
   "outputs": [],
   "source": [
    "sales = sales.sort_values(['sqft_living', 'price'])"
   ]
  },
  {
   "cell_type": "code",
   "execution_count": 9,
   "metadata": {},
   "outputs": [],
   "source": [
    "L2_small_penalty = 1.5e-5"
   ]
  },
  {
   "cell_type": "markdown",
   "metadata": {},
   "source": [
    "Let us revisit the 15th-order polynomial model using the 'sqft_living' input. Generate polynomial features up to degree 15 using `polynomial_sframe()` and fit a model with these features. When fitting the model, use an L2 penalty of `1e-5`:"
   ]
  },
  {
   "cell_type": "code",
   "execution_count": 10,
   "metadata": {},
   "outputs": [
    {
     "data": {
      "text/plain": [
       "Ridge(alpha=1.5e-05, copy_X=True, fit_intercept=True, max_iter=None,\n",
       "      normalize=True, random_state=None, solver='auto', tol=0.001)"
      ]
     },
     "execution_count": 10,
     "metadata": {},
     "output_type": "execute_result"
    }
   ],
   "source": [
    "from sklearn import linear_model as lm\n",
    "poly_15_data = polynomial_dataframe(sales['sqft_living'], 15)\n",
    "# poly_15_features = list(poly_15_data.columns.values) # get the name of the features\n",
    "# poly_15_data['price'] = sales['price']\n",
    "model_ridge = lm.Ridge(alpha = L2_small_penalty, normalize = True)\n",
    "model_ridge.fit(poly_15_data, sales['price'])"
   ]
  },
  {
   "cell_type": "markdown",
   "metadata": {},
   "source": [
    "Note: When we have so many features and so few data points, the solution can become highly numerically unstable, which can sometimes lead to strange unpredictable results. Thus, rather than using no regularization, we will introduce a tiny amount of regularization (l2_penalty=1.5e-5) to make the solution numerically stable. (In lecture, we discussed the fact that regularization can also help with numerical stability, and here we are seeing a practical example.)"
   ]
  },
  {
   "cell_type": "code",
   "execution_count": 11,
   "metadata": {},
   "outputs": [
    {
     "name": "stdout",
     "output_type": "stream",
     "text": [
      "Coefficents:  [ 1.24873306e+02 -4.77376011e-02  3.01446238e-05 -2.44419942e-09\n",
      " -1.94153675e-13  8.54085686e-18  1.51142121e-21  8.27979094e-26\n",
      "  6.52603100e-31 -3.27895017e-34 -3.87962315e-38 -2.72437650e-42\n",
      " -1.07790800e-46  3.78242694e-51  1.39790296e-54]\n",
      "Intercept:  220664.37505392812\n"
     ]
    }
   ],
   "source": [
    "print('Coefficents: ', model_ridge.fit(poly_15_data, sales['price']).coef_)\n",
    "print('Intercept: ', model_ridge.fit(poly_15_data, sales['price']).intercept_)"
   ]
  },
  {
   "cell_type": "markdown",
   "metadata": {},
   "source": [
    "# Observe overfitting"
   ]
  },
  {
   "cell_type": "markdown",
   "metadata": {},
   "source": [
    "Recall from Week 3 that the polynomial fit of degree 15 changed wildly whenever the data changed. In particular, when we split the sales data into four subsets and fit the model of degree 15, the result came out to be very different for each subset. The model had a *high variance*. We will see in a moment that ridge regression reduces such variance. But first, we must reproduce the experiment we did in Week 3."
   ]
  },
  {
   "cell_type": "markdown",
   "metadata": {},
   "source": [
    "First, split the data into split the sales data into four subsets of roughly equal size and call them `set_1`, `set_2`, `set_3`, and `set_4`. Use `.random_split` function and make sure you set `seed=0`. "
   ]
  },
  {
   "cell_type": "code",
   "execution_count": 12,
   "metadata": {},
   "outputs": [],
   "source": [
    "# dtype_dict same as above\n",
    "set_1 = pd.read_csv('wk3_kc_house_set_1_data.csv', dtype=dtype_dict)\n",
    "set_2 = pd.read_csv('wk3_kc_house_set_2_data.csv', dtype=dtype_dict)\n",
    "set_3 = pd.read_csv('wk3_kc_house_set_3_data.csv', dtype=dtype_dict)\n",
    "set_4 = pd.read_csv('wk3_kc_house_set_4_data.csv', dtype=dtype_dict)"
   ]
  },
  {
   "cell_type": "markdown",
   "metadata": {},
   "source": [
    "Next, fit a 15th degree polynomial on `set_1`, `set_2`, `set_3`, and `set_4`, using 'sqft_living' to predict prices. Print the weights and make a plot of the resulting model.\n",
    "\n",
    "Hint: When calling `turicreate.linear_regression.create()`, use the same L2 penalty as before (i.e. `l2_small_penalty`).  Also, make sure Turi Create doesn't create its own validation set by using the option `validation_set = None` in this call."
   ]
  },
  {
   "cell_type": "code",
   "execution_count": 16,
   "metadata": {},
   "outputs": [
    {
     "name": "stdout",
     "output_type": "stream",
     "text": [
      "Coefficents:  [ 5.44669398e+02 -3.55447602e-01  1.22446378e-04 -1.17175299e-08\n",
      " -3.90512812e-13 -1.39075924e-17  1.47860297e-20  6.87491717e-25\n",
      " -7.57204227e-29 -1.04097283e-32 -3.71844096e-37  3.39989383e-41\n",
      "  5.56591880e-45  2.53761401e-49 -3.35152896e-53]\n",
      "Intercept:  23888.82528483169\n"
     ]
    },
    {
     "data": {
      "text/plain": [
       "[<matplotlib.lines.Line2D at 0x7fb90540e7f0>,\n",
       " <matplotlib.lines.Line2D at 0x7fb90540ecc0>]"
      ]
     },
     "execution_count": 16,
     "metadata": {},
     "output_type": "execute_result"
    },
    {
     "data": {
      "image/png": "[encoded data removed]",
      "text/plain": [
       "<Figure size 432x288 with 1 Axes>"
      ]
     },
     "metadata": {
      "needs_background": "light"
     },
     "output_type": "display_data"
    }
   ],
   "source": [
    "L2_small_penalty2=1e-9\n",
    "set1_poly15_data = polynomial_dataframe(set_1['sqft_living'], 15)\n",
    "# set1_poly15_features = list(poly_15_data.columns.values) # get the name of the features\n",
    "# set1_poly15_data['price'] = sales['price']\n",
    "model_ridge = lm.Ridge(alpha = L2_small_penalty2, normalize = True)\n",
    "model_ridge.fit(set1_poly15_data, set_1['price'])\n",
    "print('Coefficents: ', model_ridge.fit(set1_poly15_data, set_1['price']).coef_)\n",
    "print('Intercept: ', model_ridge.fit(set1_poly15_data, set_1['price']).intercept_)\n",
    "plt.plot(set1_poly15_data['power_1'],set_1['price'],'.',\n",
    "        set1_poly15_data['power_1'], model_ridge.predict(set1_poly15_data),'-')"
   ]
  },
  {
   "cell_type": "code",
   "execution_count": 19,
   "metadata": {},
   "outputs": [
    {
     "name": "stdout",
     "output_type": "stream",
     "text": [
      "Coefficents:  [ 8.59362679e+02 -8.18118313e-01  4.28880002e-04 -9.12770694e-08\n",
      " -2.69604496e-12  3.73980352e-15 -1.42711953e-19 -6.30794723e-23\n",
      " -1.44559516e-27  7.44321301e-31  9.25865920e-35  3.28002254e-41\n",
      " -1.29543520e-42 -1.38781226e-46  1.66546430e-50]\n",
      "Intercept:  -55614.64973304863\n"
     ]
    },
    {
     "data": {
      "text/plain": [
       "[<matplotlib.lines.Line2D at 0x7fb905558780>,\n",
       " <matplotlib.lines.Line2D at 0x7fb9055588d0>]"
      ]
     },
     "execution_count": 19,
     "metadata": {},
     "output_type": "execute_result"
    },
    {
     "data": {
      "image/png": "[encoded data removed]",
      "text/plain": [
       "<Figure size 432x288 with 1 Axes>"
      ]
     },
     "metadata": {
      "needs_background": "light"
     },
     "output_type": "display_data"
    }
   ],
   "source": [
    "L2_small_penalty2=1e-9\n",
    "set2_poly15_data = polynomial_dataframe(set_2['sqft_living'], 15)\n",
    "# set1_poly15_features = list(poly_15_data.columns.values) # get the name of the features\n",
    "# set1_poly15_data['price'] = sales['price']\n",
    "model_ridge = lm.Ridge(alpha = L2_small_penalty2, normalize = True)\n",
    "model_ridge.fit(set2_poly15_data, set_2['price'])\n",
    "print('Coefficents: ', model_ridge.fit(set2_poly15_data, set_2['price']).coef_)\n",
    "print('Intercept: ', model_ridge.fit(set2_poly15_data, set_2['price']).intercept_)\n",
    "plt.plot(set2_poly15_data['power_1'],set_2['price'],'.',\n",
    "        set2_poly15_data['power_1'], model_ridge.predict(set2_poly15_data),'-')"
   ]
  },
  {
   "cell_type": "code",
   "execution_count": 20,
   "metadata": {},
   "outputs": [
    {
     "name": "stdout",
     "output_type": "stream",
     "text": [
      "Coefficents:  [-7.55395903e+02  9.75579470e-01 -4.58945964e-04  7.77957973e-08\n",
      "  7.15013679e-12 -2.88602031e-15 -2.13677579e-20  3.38085220e-23\n",
      "  2.19178148e-27 -1.97067744e-31 -4.15993133e-35 -1.80196230e-39\n",
      "  3.19071181e-43  5.08456918e-47 -3.93304263e-51]\n",
      "Intercept:  470987.85510825226\n"
     ]
    },
    {
     "data": {
      "text/plain": [
       "[<matplotlib.lines.Line2D at 0x7fb9057875c0>,\n",
       " <matplotlib.lines.Line2D at 0x7fb905787710>]"
      ]
     },
     "execution_count": 20,
     "metadata": {},
     "output_type": "execute_result"
    },
    {
     "data": {
      "image/png": "[encoded data removed]",
      "text/plain": [
       "<Figure size 432x288 with 1 Axes>"
      ]
     },
     "metadata": {
      "needs_background": "light"
     },
     "output_type": "display_data"
    }
   ],
   "source": [
    "L2_small_penalty2=1e-9\n",
    "set3_poly15_data = polynomial_dataframe(set_3['sqft_living'], 15)\n",
    "# set1_poly15_features = list(poly_15_data.columns.values) # get the name of the features\n",
    "# set1_poly15_data['price'] = sales['price']\n",
    "model_ridge = lm.Ridge(alpha = L2_small_penalty2, normalize = True)\n",
    "model_ridge.fit(set3_poly15_data, set_3['price'])\n",
    "print('Coefficents: ', model_ridge.fit(set3_poly15_data, set_3['price']).coef_)\n",
    "print('Intercept: ', model_ridge.fit(set3_poly15_data, set_3['price']).intercept_)\n",
    "plt.plot(set3_poly15_data['power_1'],set_3['price'],'.',\n",
    "        set3_poly15_data['power_1'], model_ridge.predict(set3_poly15_data),'-')"
   ]
  },
  {
   "cell_type": "code",
   "execution_count": 21,
   "metadata": {},
   "outputs": [
    {
     "name": "stdout",
     "output_type": "stream",
     "text": [
      "Coefficents:  [ 1.11944576e+03 -9.83760296e-01  3.38770967e-04  3.60376876e-08\n",
      " -4.37813930e-11  5.77191583e-15  7.66795216e-19 -9.49297536e-23\n",
      " -1.96030824e-26 -2.10880245e-32  3.31005041e-34  3.47733872e-38\n",
      " -2.43039190e-42 -8.79553367e-46  6.44569712e-50]\n",
      "Intercept:  -145655.63078793173\n"
     ]
    },
    {
     "data": {
      "text/plain": [
       "[<matplotlib.lines.Line2D at 0x7fb90591e160>,\n",
       " <matplotlib.lines.Line2D at 0x7fb90591e2b0>]"
      ]
     },
     "execution_count": 21,
     "metadata": {},
     "output_type": "execute_result"
    },
    {
     "data": {
      "image/png": "[encoded data removed]",
      "text/plain": [
       "<Figure size 432x288 with 1 Axes>"
      ]
     },
     "metadata": {
      "needs_background": "light"
     },
     "output_type": "display_data"
    }
   ],
   "source": [
    "L2_small_penalty2=1e-9\n",
    "set4_poly15_data = polynomial_dataframe(set_4['sqft_living'], 15)\n",
    "# set1_poly15_features = list(poly_15_data.columns.values) # get the name of the features\n",
    "# set1_poly15_data['price'] = sales['price']\n",
    "model_ridge = lm.Ridge(alpha = L2_small_penalty2, normalize = True)\n",
    "model_ridge.fit(set4_poly15_data, set_4['price'])\n",
    "print('Coefficents: ', model_ridge.fit(set4_poly15_data, set_4['price']).coef_)\n",
    "print('Intercept: ', model_ridge.fit(set4_poly15_data, set_4['price']).intercept_)\n",
    "plt.plot(set4_poly15_data['power_1'],set_4['price'],'.',\n",
    "        set4_poly15_data['power_1'], model_ridge.predict(set4_poly15_data),'-')"
   ]
  },
  {
   "cell_type": "markdown",
   "metadata": {},
   "source": [
    "# Ridge regression comes to rescue"
   ]
  },
  {
   "cell_type": "markdown",
   "metadata": {},
   "source": [
    "Generally, whenever we see weights change so much in response to change in data, we believe the variance of our estimate to be large. Ridge regression aims to address this issue by penalizing \"large\" weights. (Weights of `model15` looked quite small, but they are not that small because 'sqft_living' input is in the order of thousands.)\n",
    "\n",
    "With the argument `l2_penalty=1e5`, fit a 15th-order polynomial model on `set_1`, `set_2`, `set_3`, and `set_4`. Other than the change in the `l2_penalty` parameter, the code should be the same as the experiment above. Also, make sure Turi Create doesn't create its own validation set by using the option `validation_set = None` in this call."
   ]
  },
  {
   "cell_type": "code",
   "execution_count": 25,
   "metadata": {},
   "outputs": [
    {
     "name": "stdout",
     "output_type": "stream",
     "text": [
      "Coefficents:  [2.32806803e+00 3.53621608e-04 3.31969692e-08 2.00082477e-12\n",
      " 1.11492559e-16 6.57786122e-21 4.12939525e-25 2.70393755e-29\n",
      " 1.81614763e-33 1.23824277e-37 8.51872481e-42 5.89455598e-46\n",
      " 4.09542560e-50 2.85464889e-54 1.99547476e-58]\n",
      "Intercept:  539103.0310577954\n"
     ]
    },
    {
     "data": {
      "text/plain": [
       "[<matplotlib.lines.Line2D at 0x7fb90636fa58>,\n",
       " <matplotlib.lines.Line2D at 0x7fb90636fba8>]"
      ]
     },
     "execution_count": 25,
     "metadata": {},
     "output_type": "execute_result"
    },
    {
     "data": {
      "image/png": "[encoded data removed]",
      "text/plain": [
       "<Figure size 432x288 with 1 Axes>"
      ]
     },
     "metadata": {
      "needs_background": "light"
     },
     "output_type": "display_data"
    }
   ],
   "source": [
    "l2_penalty = 1.23e2\n",
    "model_ridge = lm.Ridge(alpha = l2_penalty, normalize = True)\n",
    "model_ridge.fit(set1_poly15_data, set_1['price'])\n",
    "print('Coefficents: ', model_ridge.fit(set1_poly15_data, set_1['price']).coef_)\n",
    "print('Intercept: ', model_ridge.fit(set1_poly15_data, set_1['price']).intercept_)\n",
    "plt.plot(set1_poly15_data['power_1'],set_1['price'],'.',\n",
    "        set1_poly15_data['power_1'], model_ridge.predict(set1_poly15_data),'-')"
   ]
  },
  {
   "cell_type": "code",
   "execution_count": 26,
   "metadata": {},
   "outputs": [
    {
     "name": "stdout",
     "output_type": "stream",
     "text": [
      "Coefficents:  [2.09756903e+00 3.90817483e-04 6.67189944e-08 8.90002997e-12\n",
      " 9.72639877e-16 9.69733682e-20 9.50564475e-24 9.44491031e-28\n",
      " 9.57191338e-32 9.86945155e-36 1.03101115e-39 1.08729784e-43\n",
      " 1.15453748e-47 1.23211305e-51 1.31986696e-55]\n",
      "Intercept:  529853.0253577976\n"
     ]
    },
    {
     "data": {
      "text/plain": [
       "[<matplotlib.lines.Line2D at 0x7fb9063e2358>,\n",
       " <matplotlib.lines.Line2D at 0x7fb9063e24a8>]"
      ]
     },
     "execution_count": 26,
     "metadata": {},
     "output_type": "execute_result"
    },
    {
     "data": {
      "image/png": "[encoded data removed]",
      "text/plain": [
       "<Figure size 432x288 with 1 Axes>"
      ]
     },
     "metadata": {
      "needs_background": "light"
     },
     "output_type": "display_data"
    }
   ],
   "source": [
    "model_ridge = lm.Ridge(alpha = l2_penalty, normalize = True)\n",
    "model_ridge.fit(set2_poly15_data, set_2['price'])\n",
    "print('Coefficents: ', model_ridge.fit(set2_poly15_data, set_2['price']).coef_)\n",
    "print('Intercept: ', model_ridge.fit(set2_poly15_data, set_2['price']).intercept_)\n",
    "plt.plot(set2_poly15_data['power_1'],set_2['price'],'.',\n",
    "        set2_poly15_data['power_1'], model_ridge.predict(set2_poly15_data),'-')"
   ]
  },
  {
   "cell_type": "code",
   "execution_count": 27,
   "metadata": {},
   "outputs": [
    {
     "name": "stdout",
     "output_type": "stream",
     "text": [
      "Coefficents:  [2.28906258e+00 4.12472190e-04 6.08835345e-08 6.58572163e-12\n",
      " 6.15278155e-16 5.64446634e-20 5.28834396e-24 5.07091402e-28\n",
      " 4.94657273e-32 4.88043809e-36 4.85009106e-40 4.84161534e-44\n",
      " 4.84635021e-48 4.85883628e-52 4.87558469e-56]\n",
      "Intercept:  533640.1140974432\n"
     ]
    },
    {
     "data": {
      "text/plain": [
       "[<matplotlib.lines.Line2D at 0x7fb90651dac8>,\n",
       " <matplotlib.lines.Line2D at 0x7fb90651dc18>]"
      ]
     },
     "execution_count": 27,
     "metadata": {},
     "output_type": "execute_result"
    },
    {
     "data": {
      "image/png": "[encoded data removed]",
      "text/plain": [
       "<Figure size 432x288 with 1 Axes>"
      ]
     },
     "metadata": {
      "needs_background": "light"
     },
     "output_type": "display_data"
    }
   ],
   "source": [
    "model_ridge = lm.Ridge(alpha = l2_penalty, normalize = True)\n",
    "model_ridge.fit(set3_poly15_data, set_3['price'])\n",
    "print('Coefficents: ', model_ridge.fit(set3_poly15_data, set_3['price']).coef_)\n",
    "print('Intercept: ', model_ridge.fit(set3_poly15_data, set_3['price']).intercept_)\n",
    "plt.plot(set3_poly15_data['power_1'],set_3['price'],'.',\n",
    "        set3_poly15_data['power_1'], model_ridge.predict(set3_poly15_data),'-')"
   ]
  },
  {
   "cell_type": "code",
   "execution_count": 28,
   "metadata": {},
   "outputs": [
    {
     "name": "stdout",
     "output_type": "stream",
     "text": [
      "Coefficents:  [2.08596194e+00 4.05035772e-04 7.46864647e-08 1.13096608e-11\n",
      " 1.45864442e-15 1.73561251e-19 2.01609632e-23 2.34605255e-27\n",
      " 2.75636073e-31 3.27043069e-35 3.91046855e-39 4.70118041e-43\n",
      " 5.67212304e-47 6.85958087e-51 8.30843630e-55]\n",
      "Intercept:  524562.9690466832\n"
     ]
    },
    {
     "data": {
      "text/plain": [
       "[<matplotlib.lines.Line2D at 0x7fb906931358>,\n",
       " <matplotlib.lines.Line2D at 0x7fb9069314a8>]"
      ]
     },
     "execution_count": 28,
     "metadata": {},
     "output_type": "execute_result"
    },
    {
     "data": {
      "image/png": "[encoded data removed]",
      "text/plain": [
       "<Figure size 432x288 with 1 Axes>"
      ]
     },
     "metadata": {
      "needs_background": "light"
     },
     "output_type": "display_data"
    }
   ],
   "source": [
    "model_ridge = lm.Ridge(alpha = l2_penalty, normalize = True)\n",
    "model_ridge.fit(set4_poly15_data, set_4['price'])\n",
    "print('Coefficents: ', model_ridge.fit(set4_poly15_data, set_4['price']).coef_)\n",
    "print('Intercept: ', model_ridge.fit(set4_poly15_data, set_4['price']).intercept_)\n",
    "plt.plot(set4_poly15_data['power_1'],set_4['price'],'.',\n",
    "        set4_poly15_data['power_1'], model_ridge.predict(set4_poly15_data),'-')"
   ]
  },
  {
   "cell_type": "markdown",
   "metadata": {},
   "source": [
    "# Selecting an L2 penalty via cross-validation"
   ]
  },
  {
   "cell_type": "markdown",
   "metadata": {},
   "source": [
    "Just like the polynomial degree, the L2 penalty is a \"magic\" parameter we need to select. We could use the validation set approach as we did in the last module, but that approach has a major disadvantage: it leaves fewer observations available for training. **Cross-validation** seeks to overcome this issue by using all of the training set in a smart way.\n",
    "\n",
    "We will implement a kind of cross-validation called **k-fold cross-validation**. The method gets its name because it involves dividing the training set into k segments of roughtly equal size. Similar to the validation set method, we measure the validation error with one of the segments designated as the validation set. The major difference is that we repeat the process k times as follows:\n",
    "\n",
    "Set aside segment 0 as the validation set, and fit a model on rest of data, and evalutate it on this validation set<br>\n",
    "Set aside segment 1 as the validation set, and fit a model on rest of data, and evalutate it on this validation set<br>\n",
    "...<br>\n",
    "Set aside segment k-1 as the validation set, and fit a model on rest of data, and evalutate it on this validation set\n",
    "\n",
    "After this process, we compute the average of the k validation errors, and use it as an estimate of the generalization error. Notice that  all observations are used for both training and validation, as we iterate over segments of data. \n",
    "\n",
    "To estimate the generalization error well, it is crucial to shuffle the training data before dividing them into segments. The package turicreate_cross_validation (see below) has a utility function for shuffling a given SFrame. We reserve 10% of the data as the test set and shuffle the remainder. (Make sure to use `seed=1` to get consistent answer.)\n",
    "\n",
    "  \n",
    "_Note:_ For applying cross-validation, we will import a package called `turicreate_cross_validation`. To install it, please run this command on your terminal:\n",
    "\n",
    "`pip install -e git+https://github.com/Kagandi/turicreate-cross-validation.git#egg=turicreate_cross_validation`\n",
    "\n",
    "You can find the documentation on this package here: https://github.com/Kagandi/turicreate-cross-validation"
   ]
  },
  {
   "cell_type": "code",
   "execution_count": 29,
   "metadata": {},
   "outputs": [],
   "source": [
    "train_valid_shuffled = pd.read_csv('wk3_kc_house_train_valid_shuffled.csv', dtype=dtype_dict)\n",
    "test = pd.read_csv('wk3_kc_house_test_data.csv', dtype=dtype_dict)"
   ]
  },
  {
   "cell_type": "markdown",
   "metadata": {},
   "source": [
    "Divide the combined training and validation set into equal segments. Each segment should receive n/k elements, where n is the number of observations in the training set and k is the number of segments. Since the segment 0 starts at index 0 and contains n/k elements, it ends at index (n/k)-1. The segment 1 starts where the segment 0 left off, at index (n/k). With n/k elements, the segment 1 ends at index (n*2/k)-1. Continuing in this fashion, we deduce that the segment i starts at index (n*i/k) and ends at (n*(i+1)/k)-1."
   ]
  },
  {
   "cell_type": "code",
   "execution_count": 31,
   "metadata": {},
   "outputs": [
    {
     "name": "stdout",
     "output_type": "stream",
     "text": [
      "0 (0.0, 1938.6)\n",
      "1 (1939.6, 3878.2)\n",
      "2 (3879.2, 5817.8)\n",
      "3 (5818.8, 7757.4)\n",
      "4 (7758.4, 9697.0)\n",
      "5 (9698.0, 11636.6)\n",
      "6 (11637.6, 13576.2)\n",
      "7 (13577.2, 15515.8)\n",
      "8 (15516.8, 17455.4)\n",
      "9 (17456.4, 19395.0)\n"
     ]
    }
   ],
   "source": [
    "n = len(train_valid_shuffled)\n",
    "k = 10 # 10-fold CV\n",
    "\n",
    "for i in range(k):\n",
    "    start = (n*i)/k\n",
    "    end = (n*(i + 1))/k-1\n",
    "    print(i, (start, end))"
   ]
  },
  {
   "cell_type": "markdown",
   "metadata": {},
   "source": [
    "Let us familiarize ourselves with array slicing with SFrame. To extract a continuous slice from an SFrame, use colon in square brackets. For instance, the following cell extracts rows 0 to 9 of `train_valid_shuffled`. Notice that the first index (0) is included in the slice but the last index (10) is omitted."
   ]
  },
  {
   "cell_type": "code",
   "execution_count": 42,
   "metadata": {},
   "outputs": [
    {
     "data": {
      "text/html": [
       "<div>\n",
       "<style scoped>\n",
       "    .dataframe tbody tr th:only-of-type {\n",
       "        vertical-align: middle;\n",
       "    }\n",
       "\n",
       "    .dataframe tbody tr th {\n",
       "        vertical-align: top;\n",
       "    }\n",
       "\n",
       "    .dataframe thead th {\n",
       "        text-align: right;\n",
       "    }\n",
       "</style>\n",
       "<table border=\"1\" class=\"dataframe\">\n",
       "  <thead>\n",
       "    <tr style=\"text-align: right;\">\n",
       "      <th></th>\n",
       "      <th>id</th>\n",
       "      <th>date</th>\n",
       "      <th>price</th>\n",
       "      <th>bedrooms</th>\n",
       "      <th>bathrooms</th>\n",
       "      <th>sqft_living</th>\n",
       "      <th>sqft_lot</th>\n",
       "      <th>floors</th>\n",
       "      <th>waterfront</th>\n",
       "      <th>view</th>\n",
       "      <th>...</th>\n",
       "      <th>grade</th>\n",
       "      <th>sqft_above</th>\n",
       "      <th>sqft_basement</th>\n",
       "      <th>yr_built</th>\n",
       "      <th>yr_renovated</th>\n",
       "      <th>zipcode</th>\n",
       "      <th>lat</th>\n",
       "      <th>long</th>\n",
       "      <th>sqft_living15</th>\n",
       "      <th>sqft_lot15</th>\n",
       "    </tr>\n",
       "  </thead>\n",
       "  <tbody>\n",
       "    <tr>\n",
       "      <th>0</th>\n",
       "      <td>2780400035</td>\n",
       "      <td>20140505T000000</td>\n",
       "      <td>665000.0</td>\n",
       "      <td>4.0</td>\n",
       "      <td>2.50</td>\n",
       "      <td>2800.0</td>\n",
       "      <td>5900</td>\n",
       "      <td>1</td>\n",
       "      <td>0</td>\n",
       "      <td>0</td>\n",
       "      <td>...</td>\n",
       "      <td>8</td>\n",
       "      <td>1660</td>\n",
       "      <td>1140</td>\n",
       "      <td>1963</td>\n",
       "      <td>0</td>\n",
       "      <td>98115</td>\n",
       "      <td>47.6809</td>\n",
       "      <td>-122.286</td>\n",
       "      <td>2580.0</td>\n",
       "      <td>5900.0</td>\n",
       "    </tr>\n",
       "    <tr>\n",
       "      <th>1</th>\n",
       "      <td>1703050500</td>\n",
       "      <td>20150321T000000</td>\n",
       "      <td>645000.0</td>\n",
       "      <td>3.0</td>\n",
       "      <td>2.50</td>\n",
       "      <td>2490.0</td>\n",
       "      <td>5978</td>\n",
       "      <td>2</td>\n",
       "      <td>0</td>\n",
       "      <td>0</td>\n",
       "      <td>...</td>\n",
       "      <td>9</td>\n",
       "      <td>2490</td>\n",
       "      <td>0</td>\n",
       "      <td>2003</td>\n",
       "      <td>0</td>\n",
       "      <td>98074</td>\n",
       "      <td>47.6298</td>\n",
       "      <td>-122.022</td>\n",
       "      <td>2710.0</td>\n",
       "      <td>6629.0</td>\n",
       "    </tr>\n",
       "    <tr>\n",
       "      <th>2</th>\n",
       "      <td>5700002325</td>\n",
       "      <td>20140605T000000</td>\n",
       "      <td>640000.0</td>\n",
       "      <td>3.0</td>\n",
       "      <td>1.75</td>\n",
       "      <td>2340.0</td>\n",
       "      <td>4206</td>\n",
       "      <td>1</td>\n",
       "      <td>0</td>\n",
       "      <td>0</td>\n",
       "      <td>...</td>\n",
       "      <td>7</td>\n",
       "      <td>1170</td>\n",
       "      <td>1170</td>\n",
       "      <td>1917</td>\n",
       "      <td>0</td>\n",
       "      <td>98144</td>\n",
       "      <td>47.5759</td>\n",
       "      <td>-122.288</td>\n",
       "      <td>1360.0</td>\n",
       "      <td>4725.0</td>\n",
       "    </tr>\n",
       "    <tr>\n",
       "      <th>3</th>\n",
       "      <td>0475000510</td>\n",
       "      <td>20141118T000000</td>\n",
       "      <td>594000.0</td>\n",
       "      <td>3.0</td>\n",
       "      <td>1.00</td>\n",
       "      <td>1320.0</td>\n",
       "      <td>5000</td>\n",
       "      <td>1</td>\n",
       "      <td>0</td>\n",
       "      <td>0</td>\n",
       "      <td>...</td>\n",
       "      <td>7</td>\n",
       "      <td>1090</td>\n",
       "      <td>230</td>\n",
       "      <td>1920</td>\n",
       "      <td>0</td>\n",
       "      <td>98107</td>\n",
       "      <td>47.6674</td>\n",
       "      <td>-122.365</td>\n",
       "      <td>1700.0</td>\n",
       "      <td>5000.0</td>\n",
       "    </tr>\n",
       "    <tr>\n",
       "      <th>4</th>\n",
       "      <td>0844001052</td>\n",
       "      <td>20150128T000000</td>\n",
       "      <td>365000.0</td>\n",
       "      <td>4.0</td>\n",
       "      <td>2.50</td>\n",
       "      <td>1904.0</td>\n",
       "      <td>8200</td>\n",
       "      <td>2</td>\n",
       "      <td>0</td>\n",
       "      <td>0</td>\n",
       "      <td>...</td>\n",
       "      <td>7</td>\n",
       "      <td>1904</td>\n",
       "      <td>0</td>\n",
       "      <td>1999</td>\n",
       "      <td>0</td>\n",
       "      <td>98010</td>\n",
       "      <td>47.3107</td>\n",
       "      <td>-122.001</td>\n",
       "      <td>1560.0</td>\n",
       "      <td>12426.0</td>\n",
       "    </tr>\n",
       "    <tr>\n",
       "      <th>...</th>\n",
       "      <td>...</td>\n",
       "      <td>...</td>\n",
       "      <td>...</td>\n",
       "      <td>...</td>\n",
       "      <td>...</td>\n",
       "      <td>...</td>\n",
       "      <td>...</td>\n",
       "      <td>...</td>\n",
       "      <td>...</td>\n",
       "      <td>...</td>\n",
       "      <td>...</td>\n",
       "      <td>...</td>\n",
       "      <td>...</td>\n",
       "      <td>...</td>\n",
       "      <td>...</td>\n",
       "      <td>...</td>\n",
       "      <td>...</td>\n",
       "      <td>...</td>\n",
       "      <td>...</td>\n",
       "      <td>...</td>\n",
       "      <td>...</td>\n",
       "    </tr>\n",
       "    <tr>\n",
       "      <th>19391</th>\n",
       "      <td>2473450870</td>\n",
       "      <td>20141006T000000</td>\n",
       "      <td>325000.0</td>\n",
       "      <td>3.0</td>\n",
       "      <td>2.25</td>\n",
       "      <td>2480.0</td>\n",
       "      <td>8755</td>\n",
       "      <td>2</td>\n",
       "      <td>0</td>\n",
       "      <td>0</td>\n",
       "      <td>...</td>\n",
       "      <td>8</td>\n",
       "      <td>2480</td>\n",
       "      <td>0</td>\n",
       "      <td>1979</td>\n",
       "      <td>0</td>\n",
       "      <td>98058</td>\n",
       "      <td>47.4543</td>\n",
       "      <td>-122.125</td>\n",
       "      <td>2280.0</td>\n",
       "      <td>9940.0</td>\n",
       "    </tr>\n",
       "    <tr>\n",
       "      <th>19392</th>\n",
       "      <td>9328500630</td>\n",
       "      <td>20150302T000000</td>\n",
       "      <td>545000.0</td>\n",
       "      <td>3.0</td>\n",
       "      <td>2.25</td>\n",
       "      <td>1670.0</td>\n",
       "      <td>6240</td>\n",
       "      <td>1</td>\n",
       "      <td>0</td>\n",
       "      <td>0</td>\n",
       "      <td>...</td>\n",
       "      <td>8</td>\n",
       "      <td>1240</td>\n",
       "      <td>430</td>\n",
       "      <td>1974</td>\n",
       "      <td>0</td>\n",
       "      <td>98008</td>\n",
       "      <td>47.6413</td>\n",
       "      <td>-122.113</td>\n",
       "      <td>1910.0</td>\n",
       "      <td>7000.0</td>\n",
       "    </tr>\n",
       "    <tr>\n",
       "      <th>19393</th>\n",
       "      <td>5631500254</td>\n",
       "      <td>20141007T000000</td>\n",
       "      <td>519900.0</td>\n",
       "      <td>4.0</td>\n",
       "      <td>2.50</td>\n",
       "      <td>2403.0</td>\n",
       "      <td>6172</td>\n",
       "      <td>2</td>\n",
       "      <td>0</td>\n",
       "      <td>0</td>\n",
       "      <td>...</td>\n",
       "      <td>9</td>\n",
       "      <td>2403</td>\n",
       "      <td>0</td>\n",
       "      <td>1999</td>\n",
       "      <td>0</td>\n",
       "      <td>98028</td>\n",
       "      <td>47.7361</td>\n",
       "      <td>-122.234</td>\n",
       "      <td>2380.0</td>\n",
       "      <td>6075.0</td>\n",
       "    </tr>\n",
       "    <tr>\n",
       "      <th>19394</th>\n",
       "      <td>4139480190</td>\n",
       "      <td>20140916T000000</td>\n",
       "      <td>1153000.0</td>\n",
       "      <td>3.0</td>\n",
       "      <td>3.25</td>\n",
       "      <td>3780.0</td>\n",
       "      <td>10623</td>\n",
       "      <td>1</td>\n",
       "      <td>0</td>\n",
       "      <td>1</td>\n",
       "      <td>...</td>\n",
       "      <td>11</td>\n",
       "      <td>2650</td>\n",
       "      <td>1130</td>\n",
       "      <td>1999</td>\n",
       "      <td>0</td>\n",
       "      <td>98006</td>\n",
       "      <td>47.5506</td>\n",
       "      <td>-122.101</td>\n",
       "      <td>3850.0</td>\n",
       "      <td>11170.0</td>\n",
       "    </tr>\n",
       "    <tr>\n",
       "      <th>19395</th>\n",
       "      <td>7237300290</td>\n",
       "      <td>20150326T000000</td>\n",
       "      <td>338000.0</td>\n",
       "      <td>5.0</td>\n",
       "      <td>2.50</td>\n",
       "      <td>2400.0</td>\n",
       "      <td>4496</td>\n",
       "      <td>2</td>\n",
       "      <td>0</td>\n",
       "      <td>0</td>\n",
       "      <td>...</td>\n",
       "      <td>7</td>\n",
       "      <td>2400</td>\n",
       "      <td>0</td>\n",
       "      <td>2004</td>\n",
       "      <td>0</td>\n",
       "      <td>98042</td>\n",
       "      <td>47.3692</td>\n",
       "      <td>-122.126</td>\n",
       "      <td>1880.0</td>\n",
       "      <td>4319.0</td>\n",
       "    </tr>\n",
       "  </tbody>\n",
       "</table>\n",
       "<p>19396 rows × 21 columns</p>\n",
       "</div>"
      ],
      "text/plain": [
       "               id             date      price  bedrooms  bathrooms  \\\n",
       "0      2780400035  20140505T000000   665000.0       4.0       2.50   \n",
       "1      1703050500  20150321T000000   645000.0       3.0       2.50   \n",
       "2      5700002325  20140605T000000   640000.0       3.0       1.75   \n",
       "3      0475000510  20141118T000000   594000.0       3.0       1.00   \n",
       "4      0844001052  20150128T000000   365000.0       4.0       2.50   \n",
       "...           ...              ...        ...       ...        ...   \n",
       "19391  2473450870  20141006T000000   325000.0       3.0       2.25   \n",
       "19392  9328500630  20150302T000000   545000.0       3.0       2.25   \n",
       "19393  5631500254  20141007T000000   519900.0       4.0       2.50   \n",
       "19394  4139480190  20140916T000000  1153000.0       3.0       3.25   \n",
       "19395  7237300290  20150326T000000   338000.0       5.0       2.50   \n",
       "\n",
       "       sqft_living  sqft_lot floors  waterfront  view  ...  grade  sqft_above  \\\n",
       "0           2800.0      5900      1           0     0  ...      8        1660   \n",
       "1           2490.0      5978      2           0     0  ...      9        2490   \n",
       "2           2340.0      4206      1           0     0  ...      7        1170   \n",
       "3           1320.0      5000      1           0     0  ...      7        1090   \n",
       "4           1904.0      8200      2           0     0  ...      7        1904   \n",
       "...            ...       ...    ...         ...   ...  ...    ...         ...   \n",
       "19391       2480.0      8755      2           0     0  ...      8        2480   \n",
       "19392       1670.0      6240      1           0     0  ...      8        1240   \n",
       "19393       2403.0      6172      2           0     0  ...      9        2403   \n",
       "19394       3780.0     10623      1           0     1  ...     11        2650   \n",
       "19395       2400.0      4496      2           0     0  ...      7        2400   \n",
       "\n",
       "       sqft_basement  yr_built  yr_renovated  zipcode      lat     long  \\\n",
       "0               1140      1963             0    98115  47.6809 -122.286   \n",
       "1                  0      2003             0    98074  47.6298 -122.022   \n",
       "2               1170      1917             0    98144  47.5759 -122.288   \n",
       "3                230      1920             0    98107  47.6674 -122.365   \n",
       "4                  0      1999             0    98010  47.3107 -122.001   \n",
       "...              ...       ...           ...      ...      ...      ...   \n",
       "19391              0      1979             0    98058  47.4543 -122.125   \n",
       "19392            430      1974             0    98008  47.6413 -122.113   \n",
       "19393              0      1999             0    98028  47.7361 -122.234   \n",
       "19394           1130      1999             0    98006  47.5506 -122.101   \n",
       "19395              0      2004             0    98042  47.3692 -122.126   \n",
       "\n",
       "       sqft_living15  sqft_lot15  \n",
       "0             2580.0      5900.0  \n",
       "1             2710.0      6629.0  \n",
       "2             1360.0      4725.0  \n",
       "3             1700.0      5000.0  \n",
       "4             1560.0     12426.0  \n",
       "...              ...         ...  \n",
       "19391         2280.0      9940.0  \n",
       "19392         1910.0      7000.0  \n",
       "19393         2380.0      6075.0  \n",
       "19394         3850.0     11170.0  \n",
       "19395         1880.0      4319.0  \n",
       "\n",
       "[19396 rows x 21 columns]"
      ]
     },
     "execution_count": 42,
     "metadata": {},
     "output_type": "execute_result"
    }
   ],
   "source": [
    "train_valid_shuffled # rows 0 to 9"
   ]
  },
  {
   "cell_type": "markdown",
   "metadata": {},
   "source": [
    "Now let us extract individual segments with array slicing. Consider the scenario where we group the houses in the `train_valid_shuffled` dataframe into k=10 segments of roughly equal size, with starting and ending indices computed as above.\n",
    "Extract the fourth segment (segment 3) and assign it to a variable called `validation4`."
   ]
  },
  {
   "cell_type": "code",
   "execution_count": 34,
   "metadata": {},
   "outputs": [],
   "source": [
    "validation4 = train_valid_shuffled[5818:7758]"
   ]
  },
  {
   "cell_type": "code",
   "execution_count": 35,
   "metadata": {},
   "outputs": [
    {
     "name": "stdout",
     "output_type": "stream",
     "text": [
      "536234\n"
     ]
    }
   ],
   "source": [
    "print(int(round(validation4['price'].mean(), 0)))"
   ]
  },
  {
   "cell_type": "markdown",
   "metadata": {},
   "source": [
    "After designating one of the k segments as the validation set, we train a model using the rest of the data. To choose the remainder, we slice (0:start) and (end+1:n) of the data and paste them together. SFrame has `append()` method that pastes together two disjoint sets of rows originating from a common dataset. For instance, the following cell pastes together the first and last two rows of the `train_valid_shuffled` dataframe."
   ]
  },
  {
   "cell_type": "code",
   "execution_count": 38,
   "metadata": {},
   "outputs": [
    {
     "data": {
      "text/html": [
       "<div>\n",
       "<style scoped>\n",
       "    .dataframe tbody tr th:only-of-type {\n",
       "        vertical-align: middle;\n",
       "    }\n",
       "\n",
       "    .dataframe tbody tr th {\n",
       "        vertical-align: top;\n",
       "    }\n",
       "\n",
       "    .dataframe thead th {\n",
       "        text-align: right;\n",
       "    }\n",
       "</style>\n",
       "<table border=\"1\" class=\"dataframe\">\n",
       "  <thead>\n",
       "    <tr style=\"text-align: right;\">\n",
       "      <th></th>\n",
       "      <th>id</th>\n",
       "      <th>date</th>\n",
       "      <th>price</th>\n",
       "      <th>bedrooms</th>\n",
       "      <th>bathrooms</th>\n",
       "      <th>sqft_living</th>\n",
       "      <th>sqft_lot</th>\n",
       "      <th>floors</th>\n",
       "      <th>waterfront</th>\n",
       "      <th>view</th>\n",
       "      <th>...</th>\n",
       "      <th>grade</th>\n",
       "      <th>sqft_above</th>\n",
       "      <th>sqft_basement</th>\n",
       "      <th>yr_built</th>\n",
       "      <th>yr_renovated</th>\n",
       "      <th>zipcode</th>\n",
       "      <th>lat</th>\n",
       "      <th>long</th>\n",
       "      <th>sqft_living15</th>\n",
       "      <th>sqft_lot15</th>\n",
       "    </tr>\n",
       "  </thead>\n",
       "  <tbody>\n",
       "    <tr>\n",
       "      <th>0</th>\n",
       "      <td>2780400035</td>\n",
       "      <td>20140505T000000</td>\n",
       "      <td>665000.0</td>\n",
       "      <td>4.0</td>\n",
       "      <td>2.50</td>\n",
       "      <td>2800.0</td>\n",
       "      <td>5900</td>\n",
       "      <td>1</td>\n",
       "      <td>0</td>\n",
       "      <td>0</td>\n",
       "      <td>...</td>\n",
       "      <td>8</td>\n",
       "      <td>1660</td>\n",
       "      <td>1140</td>\n",
       "      <td>1963</td>\n",
       "      <td>0</td>\n",
       "      <td>98115</td>\n",
       "      <td>47.6809</td>\n",
       "      <td>-122.286</td>\n",
       "      <td>2580.0</td>\n",
       "      <td>5900.0</td>\n",
       "    </tr>\n",
       "    <tr>\n",
       "      <th>1</th>\n",
       "      <td>1703050500</td>\n",
       "      <td>20150321T000000</td>\n",
       "      <td>645000.0</td>\n",
       "      <td>3.0</td>\n",
       "      <td>2.50</td>\n",
       "      <td>2490.0</td>\n",
       "      <td>5978</td>\n",
       "      <td>2</td>\n",
       "      <td>0</td>\n",
       "      <td>0</td>\n",
       "      <td>...</td>\n",
       "      <td>9</td>\n",
       "      <td>2490</td>\n",
       "      <td>0</td>\n",
       "      <td>2003</td>\n",
       "      <td>0</td>\n",
       "      <td>98074</td>\n",
       "      <td>47.6298</td>\n",
       "      <td>-122.022</td>\n",
       "      <td>2710.0</td>\n",
       "      <td>6629.0</td>\n",
       "    </tr>\n",
       "    <tr>\n",
       "      <th>19394</th>\n",
       "      <td>4139480190</td>\n",
       "      <td>20140916T000000</td>\n",
       "      <td>1153000.0</td>\n",
       "      <td>3.0</td>\n",
       "      <td>3.25</td>\n",
       "      <td>3780.0</td>\n",
       "      <td>10623</td>\n",
       "      <td>1</td>\n",
       "      <td>0</td>\n",
       "      <td>1</td>\n",
       "      <td>...</td>\n",
       "      <td>11</td>\n",
       "      <td>2650</td>\n",
       "      <td>1130</td>\n",
       "      <td>1999</td>\n",
       "      <td>0</td>\n",
       "      <td>98006</td>\n",
       "      <td>47.5506</td>\n",
       "      <td>-122.101</td>\n",
       "      <td>3850.0</td>\n",
       "      <td>11170.0</td>\n",
       "    </tr>\n",
       "    <tr>\n",
       "      <th>19395</th>\n",
       "      <td>7237300290</td>\n",
       "      <td>20150326T000000</td>\n",
       "      <td>338000.0</td>\n",
       "      <td>5.0</td>\n",
       "      <td>2.50</td>\n",
       "      <td>2400.0</td>\n",
       "      <td>4496</td>\n",
       "      <td>2</td>\n",
       "      <td>0</td>\n",
       "      <td>0</td>\n",
       "      <td>...</td>\n",
       "      <td>7</td>\n",
       "      <td>2400</td>\n",
       "      <td>0</td>\n",
       "      <td>2004</td>\n",
       "      <td>0</td>\n",
       "      <td>98042</td>\n",
       "      <td>47.3692</td>\n",
       "      <td>-122.126</td>\n",
       "      <td>1880.0</td>\n",
       "      <td>4319.0</td>\n",
       "    </tr>\n",
       "  </tbody>\n",
       "</table>\n",
       "<p>4 rows × 21 columns</p>\n",
       "</div>"
      ],
      "text/plain": [
       "               id             date      price  bedrooms  bathrooms  \\\n",
       "0      2780400035  20140505T000000   665000.0       4.0       2.50   \n",
       "1      1703050500  20150321T000000   645000.0       3.0       2.50   \n",
       "19394  4139480190  20140916T000000  1153000.0       3.0       3.25   \n",
       "19395  7237300290  20150326T000000   338000.0       5.0       2.50   \n",
       "\n",
       "       sqft_living  sqft_lot floors  waterfront  view  ...  grade  sqft_above  \\\n",
       "0           2800.0      5900      1           0     0  ...      8        1660   \n",
       "1           2490.0      5978      2           0     0  ...      9        2490   \n",
       "19394       3780.0     10623      1           0     1  ...     11        2650   \n",
       "19395       2400.0      4496      2           0     0  ...      7        2400   \n",
       "\n",
       "       sqft_basement  yr_built  yr_renovated  zipcode      lat     long  \\\n",
       "0               1140      1963             0    98115  47.6809 -122.286   \n",
       "1                  0      2003             0    98074  47.6298 -122.022   \n",
       "19394           1130      1999             0    98006  47.5506 -122.101   \n",
       "19395              0      2004             0    98042  47.3692 -122.126   \n",
       "\n",
       "       sqft_living15  sqft_lot15  \n",
       "0             2580.0      5900.0  \n",
       "1             2710.0      6629.0  \n",
       "19394         3850.0     11170.0  \n",
       "19395         1880.0      4319.0  \n",
       "\n",
       "[4 rows x 21 columns]"
      ]
     },
     "execution_count": 38,
     "metadata": {},
     "output_type": "execute_result"
    }
   ],
   "source": [
    "n = len(train_valid_shuffled)\n",
    "first_two = train_valid_shuffled[0:2]\n",
    "last_two = train_valid_shuffled[n-2:n]\n",
    "first_two.append(last_two)"
   ]
  },
  {
   "cell_type": "code",
   "execution_count": 39,
   "metadata": {},
   "outputs": [],
   "source": [
    "train4 = train_valid_shuffled[0:5818].append(train_valid_shuffled[7758:n])"
   ]
  },
  {
   "cell_type": "code",
   "execution_count": 40,
   "metadata": {},
   "outputs": [
    {
     "data": {
      "text/html": [
       "<div>\n",
       "<style scoped>\n",
       "    .dataframe tbody tr th:only-of-type {\n",
       "        vertical-align: middle;\n",
       "    }\n",
       "\n",
       "    .dataframe tbody tr th {\n",
       "        vertical-align: top;\n",
       "    }\n",
       "\n",
       "    .dataframe thead th {\n",
       "        text-align: right;\n",
       "    }\n",
       "</style>\n",
       "<table border=\"1\" class=\"dataframe\">\n",
       "  <thead>\n",
       "    <tr style=\"text-align: right;\">\n",
       "      <th></th>\n",
       "      <th>id</th>\n",
       "      <th>date</th>\n",
       "      <th>price</th>\n",
       "      <th>bedrooms</th>\n",
       "      <th>bathrooms</th>\n",
       "      <th>sqft_living</th>\n",
       "      <th>sqft_lot</th>\n",
       "      <th>floors</th>\n",
       "      <th>waterfront</th>\n",
       "      <th>view</th>\n",
       "      <th>...</th>\n",
       "      <th>grade</th>\n",
       "      <th>sqft_above</th>\n",
       "      <th>sqft_basement</th>\n",
       "      <th>yr_built</th>\n",
       "      <th>yr_renovated</th>\n",
       "      <th>zipcode</th>\n",
       "      <th>lat</th>\n",
       "      <th>long</th>\n",
       "      <th>sqft_living15</th>\n",
       "      <th>sqft_lot15</th>\n",
       "    </tr>\n",
       "  </thead>\n",
       "  <tbody>\n",
       "    <tr>\n",
       "      <th>0</th>\n",
       "      <td>2780400035</td>\n",
       "      <td>20140505T000000</td>\n",
       "      <td>665000.0</td>\n",
       "      <td>4.0</td>\n",
       "      <td>2.50</td>\n",
       "      <td>2800.0</td>\n",
       "      <td>5900</td>\n",
       "      <td>1</td>\n",
       "      <td>0</td>\n",
       "      <td>0</td>\n",
       "      <td>...</td>\n",
       "      <td>8</td>\n",
       "      <td>1660</td>\n",
       "      <td>1140</td>\n",
       "      <td>1963</td>\n",
       "      <td>0</td>\n",
       "      <td>98115</td>\n",
       "      <td>47.6809</td>\n",
       "      <td>-122.286</td>\n",
       "      <td>2580.0</td>\n",
       "      <td>5900.0</td>\n",
       "    </tr>\n",
       "    <tr>\n",
       "      <th>1</th>\n",
       "      <td>1703050500</td>\n",
       "      <td>20150321T000000</td>\n",
       "      <td>645000.0</td>\n",
       "      <td>3.0</td>\n",
       "      <td>2.50</td>\n",
       "      <td>2490.0</td>\n",
       "      <td>5978</td>\n",
       "      <td>2</td>\n",
       "      <td>0</td>\n",
       "      <td>0</td>\n",
       "      <td>...</td>\n",
       "      <td>9</td>\n",
       "      <td>2490</td>\n",
       "      <td>0</td>\n",
       "      <td>2003</td>\n",
       "      <td>0</td>\n",
       "      <td>98074</td>\n",
       "      <td>47.6298</td>\n",
       "      <td>-122.022</td>\n",
       "      <td>2710.0</td>\n",
       "      <td>6629.0</td>\n",
       "    </tr>\n",
       "    <tr>\n",
       "      <th>2</th>\n",
       "      <td>5700002325</td>\n",
       "      <td>20140605T000000</td>\n",
       "      <td>640000.0</td>\n",
       "      <td>3.0</td>\n",
       "      <td>1.75</td>\n",
       "      <td>2340.0</td>\n",
       "      <td>4206</td>\n",
       "      <td>1</td>\n",
       "      <td>0</td>\n",
       "      <td>0</td>\n",
       "      <td>...</td>\n",
       "      <td>7</td>\n",
       "      <td>1170</td>\n",
       "      <td>1170</td>\n",
       "      <td>1917</td>\n",
       "      <td>0</td>\n",
       "      <td>98144</td>\n",
       "      <td>47.5759</td>\n",
       "      <td>-122.288</td>\n",
       "      <td>1360.0</td>\n",
       "      <td>4725.0</td>\n",
       "    </tr>\n",
       "    <tr>\n",
       "      <th>3</th>\n",
       "      <td>0475000510</td>\n",
       "      <td>20141118T000000</td>\n",
       "      <td>594000.0</td>\n",
       "      <td>3.0</td>\n",
       "      <td>1.00</td>\n",
       "      <td>1320.0</td>\n",
       "      <td>5000</td>\n",
       "      <td>1</td>\n",
       "      <td>0</td>\n",
       "      <td>0</td>\n",
       "      <td>...</td>\n",
       "      <td>7</td>\n",
       "      <td>1090</td>\n",
       "      <td>230</td>\n",
       "      <td>1920</td>\n",
       "      <td>0</td>\n",
       "      <td>98107</td>\n",
       "      <td>47.6674</td>\n",
       "      <td>-122.365</td>\n",
       "      <td>1700.0</td>\n",
       "      <td>5000.0</td>\n",
       "    </tr>\n",
       "    <tr>\n",
       "      <th>4</th>\n",
       "      <td>0844001052</td>\n",
       "      <td>20150128T000000</td>\n",
       "      <td>365000.0</td>\n",
       "      <td>4.0</td>\n",
       "      <td>2.50</td>\n",
       "      <td>1904.0</td>\n",
       "      <td>8200</td>\n",
       "      <td>2</td>\n",
       "      <td>0</td>\n",
       "      <td>0</td>\n",
       "      <td>...</td>\n",
       "      <td>7</td>\n",
       "      <td>1904</td>\n",
       "      <td>0</td>\n",
       "      <td>1999</td>\n",
       "      <td>0</td>\n",
       "      <td>98010</td>\n",
       "      <td>47.3107</td>\n",
       "      <td>-122.001</td>\n",
       "      <td>1560.0</td>\n",
       "      <td>12426.0</td>\n",
       "    </tr>\n",
       "    <tr>\n",
       "      <th>...</th>\n",
       "      <td>...</td>\n",
       "      <td>...</td>\n",
       "      <td>...</td>\n",
       "      <td>...</td>\n",
       "      <td>...</td>\n",
       "      <td>...</td>\n",
       "      <td>...</td>\n",
       "      <td>...</td>\n",
       "      <td>...</td>\n",
       "      <td>...</td>\n",
       "      <td>...</td>\n",
       "      <td>...</td>\n",
       "      <td>...</td>\n",
       "      <td>...</td>\n",
       "      <td>...</td>\n",
       "      <td>...</td>\n",
       "      <td>...</td>\n",
       "      <td>...</td>\n",
       "      <td>...</td>\n",
       "      <td>...</td>\n",
       "      <td>...</td>\n",
       "    </tr>\n",
       "    <tr>\n",
       "      <th>19391</th>\n",
       "      <td>2473450870</td>\n",
       "      <td>20141006T000000</td>\n",
       "      <td>325000.0</td>\n",
       "      <td>3.0</td>\n",
       "      <td>2.25</td>\n",
       "      <td>2480.0</td>\n",
       "      <td>8755</td>\n",
       "      <td>2</td>\n",
       "      <td>0</td>\n",
       "      <td>0</td>\n",
       "      <td>...</td>\n",
       "      <td>8</td>\n",
       "      <td>2480</td>\n",
       "      <td>0</td>\n",
       "      <td>1979</td>\n",
       "      <td>0</td>\n",
       "      <td>98058</td>\n",
       "      <td>47.4543</td>\n",
       "      <td>-122.125</td>\n",
       "      <td>2280.0</td>\n",
       "      <td>9940.0</td>\n",
       "    </tr>\n",
       "    <tr>\n",
       "      <th>19392</th>\n",
       "      <td>9328500630</td>\n",
       "      <td>20150302T000000</td>\n",
       "      <td>545000.0</td>\n",
       "      <td>3.0</td>\n",
       "      <td>2.25</td>\n",
       "      <td>1670.0</td>\n",
       "      <td>6240</td>\n",
       "      <td>1</td>\n",
       "      <td>0</td>\n",
       "      <td>0</td>\n",
       "      <td>...</td>\n",
       "      <td>8</td>\n",
       "      <td>1240</td>\n",
       "      <td>430</td>\n",
       "      <td>1974</td>\n",
       "      <td>0</td>\n",
       "      <td>98008</td>\n",
       "      <td>47.6413</td>\n",
       "      <td>-122.113</td>\n",
       "      <td>1910.0</td>\n",
       "      <td>7000.0</td>\n",
       "    </tr>\n",
       "    <tr>\n",
       "      <th>19393</th>\n",
       "      <td>5631500254</td>\n",
       "      <td>20141007T000000</td>\n",
       "      <td>519900.0</td>\n",
       "      <td>4.0</td>\n",
       "      <td>2.50</td>\n",
       "      <td>2403.0</td>\n",
       "      <td>6172</td>\n",
       "      <td>2</td>\n",
       "      <td>0</td>\n",
       "      <td>0</td>\n",
       "      <td>...</td>\n",
       "      <td>9</td>\n",
       "      <td>2403</td>\n",
       "      <td>0</td>\n",
       "      <td>1999</td>\n",
       "      <td>0</td>\n",
       "      <td>98028</td>\n",
       "      <td>47.7361</td>\n",
       "      <td>-122.234</td>\n",
       "      <td>2380.0</td>\n",
       "      <td>6075.0</td>\n",
       "    </tr>\n",
       "    <tr>\n",
       "      <th>19394</th>\n",
       "      <td>4139480190</td>\n",
       "      <td>20140916T000000</td>\n",
       "      <td>1153000.0</td>\n",
       "      <td>3.0</td>\n",
       "      <td>3.25</td>\n",
       "      <td>3780.0</td>\n",
       "      <td>10623</td>\n",
       "      <td>1</td>\n",
       "      <td>0</td>\n",
       "      <td>1</td>\n",
       "      <td>...</td>\n",
       "      <td>11</td>\n",
       "      <td>2650</td>\n",
       "      <td>1130</td>\n",
       "      <td>1999</td>\n",
       "      <td>0</td>\n",
       "      <td>98006</td>\n",
       "      <td>47.5506</td>\n",
       "      <td>-122.101</td>\n",
       "      <td>3850.0</td>\n",
       "      <td>11170.0</td>\n",
       "    </tr>\n",
       "    <tr>\n",
       "      <th>19395</th>\n",
       "      <td>7237300290</td>\n",
       "      <td>20150326T000000</td>\n",
       "      <td>338000.0</td>\n",
       "      <td>5.0</td>\n",
       "      <td>2.50</td>\n",
       "      <td>2400.0</td>\n",
       "      <td>4496</td>\n",
       "      <td>2</td>\n",
       "      <td>0</td>\n",
       "      <td>0</td>\n",
       "      <td>...</td>\n",
       "      <td>7</td>\n",
       "      <td>2400</td>\n",
       "      <td>0</td>\n",
       "      <td>2004</td>\n",
       "      <td>0</td>\n",
       "      <td>98042</td>\n",
       "      <td>47.3692</td>\n",
       "      <td>-122.126</td>\n",
       "      <td>1880.0</td>\n",
       "      <td>4319.0</td>\n",
       "    </tr>\n",
       "  </tbody>\n",
       "</table>\n",
       "<p>17456 rows × 21 columns</p>\n",
       "</div>"
      ],
      "text/plain": [
       "               id             date      price  bedrooms  bathrooms  \\\n",
       "0      2780400035  20140505T000000   665000.0       4.0       2.50   \n",
       "1      1703050500  20150321T000000   645000.0       3.0       2.50   \n",
       "2      5700002325  20140605T000000   640000.0       3.0       1.75   \n",
       "3      0475000510  20141118T000000   594000.0       3.0       1.00   \n",
       "4      0844001052  20150128T000000   365000.0       4.0       2.50   \n",
       "...           ...              ...        ...       ...        ...   \n",
       "19391  2473450870  20141006T000000   325000.0       3.0       2.25   \n",
       "19392  9328500630  20150302T000000   545000.0       3.0       2.25   \n",
       "19393  5631500254  20141007T000000   519900.0       4.0       2.50   \n",
       "19394  4139480190  20140916T000000  1153000.0       3.0       3.25   \n",
       "19395  7237300290  20150326T000000   338000.0       5.0       2.50   \n",
       "\n",
       "       sqft_living  sqft_lot floors  waterfront  view  ...  grade  sqft_above  \\\n",
       "0           2800.0      5900      1           0     0  ...      8        1660   \n",
       "1           2490.0      5978      2           0     0  ...      9        2490   \n",
       "2           2340.0      4206      1           0     0  ...      7        1170   \n",
       "3           1320.0      5000      1           0     0  ...      7        1090   \n",
       "4           1904.0      8200      2           0     0  ...      7        1904   \n",
       "...            ...       ...    ...         ...   ...  ...    ...         ...   \n",
       "19391       2480.0      8755      2           0     0  ...      8        2480   \n",
       "19392       1670.0      6240      1           0     0  ...      8        1240   \n",
       "19393       2403.0      6172      2           0     0  ...      9        2403   \n",
       "19394       3780.0     10623      1           0     1  ...     11        2650   \n",
       "19395       2400.0      4496      2           0     0  ...      7        2400   \n",
       "\n",
       "       sqft_basement  yr_built  yr_renovated  zipcode      lat     long  \\\n",
       "0               1140      1963             0    98115  47.6809 -122.286   \n",
       "1                  0      2003             0    98074  47.6298 -122.022   \n",
       "2               1170      1917             0    98144  47.5759 -122.288   \n",
       "3                230      1920             0    98107  47.6674 -122.365   \n",
       "4                  0      1999             0    98010  47.3107 -122.001   \n",
       "...              ...       ...           ...      ...      ...      ...   \n",
       "19391              0      1979             0    98058  47.4543 -122.125   \n",
       "19392            430      1974             0    98008  47.6413 -122.113   \n",
       "19393              0      1999             0    98028  47.7361 -122.234   \n",
       "19394           1130      1999             0    98006  47.5506 -122.101   \n",
       "19395              0      2004             0    98042  47.3692 -122.126   \n",
       "\n",
       "       sqft_living15  sqft_lot15  \n",
       "0             2580.0      5900.0  \n",
       "1             2710.0      6629.0  \n",
       "2             1360.0      4725.0  \n",
       "3             1700.0      5000.0  \n",
       "4             1560.0     12426.0  \n",
       "...              ...         ...  \n",
       "19391         2280.0      9940.0  \n",
       "19392         1910.0      7000.0  \n",
       "19393         2380.0      6075.0  \n",
       "19394         3850.0     11170.0  \n",
       "19395         1880.0      4319.0  \n",
       "\n",
       "[17456 rows x 21 columns]"
      ]
     },
     "execution_count": 40,
     "metadata": {},
     "output_type": "execute_result"
    }
   ],
   "source": [
    "train4"
   ]
  },
  {
   "cell_type": "code",
   "execution_count": 41,
   "metadata": {},
   "outputs": [
    {
     "name": "stdout",
     "output_type": "stream",
     "text": [
      "539450\n"
     ]
    }
   ],
   "source": [
    "print (int(round(train4['price'].mean(), 0)))"
   ]
  },
  {
   "cell_type": "markdown",
   "metadata": {},
   "source": [
    "Now we are ready to implement k-fold cross-validation. Write a function that computes k validation errors by designating each of the k segments as the validation set. It accepts as parameters (i) `k`, (ii) `l2_penalty`, (iii) dataframe, (iv) name of output column (e.g. `price`) and (v) list of feature names. The function returns the average validation error using k segments as validation sets.\n",
    "\n",
    "* For each i in [0, 1, ..., k-1]:\n",
    "  * Compute starting and ending indices of segment i and call 'start' and 'end'\n",
    "  * Form validation set by taking a slice (start:end+1) from the data.\n",
    "  * Form training set by appending slice (end+1:n) to the end of slice (0:start).\n",
    "  * Train a linear model using training set just formed, with a given l2_penalty\n",
    "  * Compute validation error using validation set just formed"
   ]
  },
  {
   "cell_type": "code",
   "execution_count": 49,
   "metadata": {},
   "outputs": [],
   "source": [
    "def k_fold_cross_validation(k, l2_penalty, data, output_name, features_list):\n",
    "    empty_vector = np.empty(k)\n",
    "    n = len(data)\n",
    "    for i in range(k):\n",
    "        start = int((n * i)/k)\n",
    "        end  = int((n * (i+1))/k-1)\n",
    "        validation_set = data[start:end + 1]\n",
    "        train_set = data[0: start].append(data[end + 1: n])\n",
    "        ridge = lm.Ridge(alpha = l2_penalty, normalize = True)\n",
    "        model = ridge.fit(set4_poly15_data, set_4['price'])\n",
    "        predict = model.predict(validation_set[features_list])\n",
    "        errors = validation_set[output_name] - predict\n",
    "        squared_errors = errors ** 2\n",
    "        RSS = squared_errors.sum()\n",
    "        empty_vector[i] = RSS\n",
    "    return empty_vector.mean()\n",
    "    print('mean:' + str(empty_vector.mean()))"
   ]
  },
  {
   "cell_type": "markdown",
   "metadata": {},
   "source": [
    "Once we have a function to compute the average validation error for a model, we can write a loop to find the model that minimizes the average validation error. Write a loop that does the following:\n",
    "* We will again be aiming to fit a 15th-order polynomial model using the `sqft_living` input\n",
    "* For `l2_penalty` in [10^1, 10^1.5, 10^2, 10^2.5, ..., 10^7] (to get this in Python, you can use this Numpy function: `np.logspace(1, 7, num=13)`.)\n",
    "    * Run 10-fold cross-validation with `l2_penalty`\n",
    "* Report which L2 penalty produced the lowest average validation error.\n",
    "\n",
    "Note: since the degree of the polynomial is now fixed to 15, to make things faster, you should generate polynomial features in advance and re-use them throughout the loop. Make sure to use `train_valid_shuffled` when generating polynomial features!"
   ]
  },
  {
   "cell_type": "code",
   "execution_count": 59,
   "metadata": {},
   "outputs": [
    {
     "name": "stdout",
     "output_type": "stream",
     "text": [
      "[1.00000000e+01 3.16227766e+01 1.00000000e+02 3.16227766e+02\n",
      " 1.00000000e+03 3.16227766e+03 1.00000000e+04 3.16227766e+04\n",
      " 1.00000000e+05 3.16227766e+05 1.00000000e+06 3.16227766e+06\n",
      " 1.00000000e+07]\n",
      "[3.80572237e+16 2.89600879e+16 6.10941363e+15 9.71697801e+14\n",
      " 3.27573063e+14 2.67511359e+14 2.64664352e+14 2.65439114e+14\n",
      " 2.65853575e+14 2.66001648e+14 2.66050176e+14 2.66065692e+14\n",
      " 2.66070615e+14]\n"
     ]
    }
   ],
   "source": [
    "shuffled_data_poly_15 = polynomial_dataframe(train_valid_shuffled['sqft_living'], 15)\n",
    "my_features = list(shuffled_data_poly_15.columns.values)\n",
    "shuffled_data_poly_15['price'] = train_valid_shuffled['price']\n",
    "a = np.logspace(1 , 7, num = 13)\n",
    "print(a)\n",
    "nn = len(a)\n",
    "error_vector = np.empty(13)\n",
    "for i in range(nn):\n",
    "    error_vector[i] = k_fold_cross_validation(10, a[i], shuffled_data_poly_15, 'price', my_features)\n",
    "print(error_vector)"
   ]
  },
  {
   "cell_type": "code",
   "execution_count": 57,
   "metadata": {},
   "outputs": [
    {
     "name": "stdout",
     "output_type": "stream",
     "text": [
      "284718925209870.3\n"
     ]
    }
   ],
   "source": [
    "train_data = pd.read_csv('wk3_kc_house_train_data.csv', dtype=dtype_dict)\n",
    "poly_train_data = polynomial_dataframe(train_data['sqft_living'], 15)\n",
    "poly_test_data = polynomial_dataframe(test['sqft_living'], 15)\n",
    "poly_train_features = list(poly_train_data.columns.values) # get the name of the features\n",
    "poly_train_data['price'] = train_data['price']\n",
    "poly_test_data['price'] = test['price']\n",
    "l2_penalty = 264664352076592.75\n",
    "model_ridge = lm.Ridge(alpha = l2_penalty, normalize = True)\n",
    "model_train = model_ridge.fit(poly_train_data[poly_train_features], poly_train_data['price'])\n",
    "predictions = model_ridge.predict(poly_test_data[poly_train_features])\n",
    "errors_test = test['price'] - predictions\n",
    "squared_errors_test = errors_test ** 2\n",
    "RSS = squared_errors_test.sum()\n",
    "print(RSS)"
   ]
  },
  {
   "cell_type": "code",
   "execution_count": null,
   "metadata": {},
   "outputs": [],
   "source": []
  }
 ],
 "metadata": {
  "kernelspec": {
   "display_name": "Python 3",
   "language": "python",
   "name": "python3"
  },
  "language_info": {
   "codemirror_mode": {
    "name": "ipython",
    "version": 3
   },
   "file_extension": ".py",
   "mimetype": "text/x-python",
   "name": "python",
   "nbconvert_exporter": "python",
   "pygments_lexer": "ipython3",
   "version": "3.7.0"
  }
 },
 "nbformat": 4,
 "nbformat_minor": 4
}
